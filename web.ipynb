{
 "cells": [
  {
   "cell_type": "markdown",
   "metadata": {},
   "source": [
    "WEB SCRAPING COM SELENIUM"
   ]
  },
  {
   "cell_type": "code",
   "execution_count": 4,
   "metadata": {},
   "outputs": [
    {
     "name": "stdout",
     "output_type": "stream",
     "text": [
      "Requirement already satisfied: selenium in c:\\users\\jacky\\appdata\\local\\packages\\pythonsoftwarefoundation.python.3.11_qbz5n2kfra8p0\\localcache\\local-packages\\python311\\site-packages (4.29.0)\n",
      "Requirement already satisfied: urllib3<3,>=1.26 in c:\\users\\jacky\\appdata\\local\\packages\\pythonsoftwarefoundation.python.3.11_qbz5n2kfra8p0\\localcache\\local-packages\\python311\\site-packages (from urllib3[socks]<3,>=1.26->selenium) (2.2.3)\n",
      "Requirement already satisfied: trio~=0.17 in c:\\users\\jacky\\appdata\\local\\packages\\pythonsoftwarefoundation.python.3.11_qbz5n2kfra8p0\\localcache\\local-packages\\python311\\site-packages (from selenium) (0.29.0)\n",
      "Requirement already satisfied: trio-websocket~=0.9 in c:\\users\\jacky\\appdata\\local\\packages\\pythonsoftwarefoundation.python.3.11_qbz5n2kfra8p0\\localcache\\local-packages\\python311\\site-packages (from selenium) (0.12.1)\n",
      "Requirement already satisfied: certifi>=2021.10.8 in c:\\users\\jacky\\appdata\\local\\packages\\pythonsoftwarefoundation.python.3.11_qbz5n2kfra8p0\\localcache\\local-packages\\python311\\site-packages (from selenium) (2024.8.30)\n",
      "Requirement already satisfied: typing_extensions~=4.9 in c:\\users\\jacky\\appdata\\local\\packages\\pythonsoftwarefoundation.python.3.11_qbz5n2kfra8p0\\localcache\\local-packages\\python311\\site-packages (from selenium) (4.12.2)\n",
      "Requirement already satisfied: websocket-client~=1.8 in c:\\users\\jacky\\appdata\\local\\packages\\pythonsoftwarefoundation.python.3.11_qbz5n2kfra8p0\\localcache\\local-packages\\python311\\site-packages (from selenium) (1.8.0)\n",
      "Requirement already satisfied: attrs>=23.2.0 in c:\\users\\jacky\\appdata\\local\\packages\\pythonsoftwarefoundation.python.3.11_qbz5n2kfra8p0\\localcache\\local-packages\\python311\\site-packages (from trio~=0.17->selenium) (24.2.0)\n",
      "Requirement already satisfied: sortedcontainers in c:\\users\\jacky\\appdata\\local\\packages\\pythonsoftwarefoundation.python.3.11_qbz5n2kfra8p0\\localcache\\local-packages\\python311\\site-packages (from trio~=0.17->selenium) (2.4.0)\n",
      "Requirement already satisfied: idna in c:\\users\\jacky\\appdata\\local\\packages\\pythonsoftwarefoundation.python.3.11_qbz5n2kfra8p0\\localcache\\local-packages\\python311\\site-packages (from trio~=0.17->selenium) (3.10)\n",
      "Requirement already satisfied: outcome in c:\\users\\jacky\\appdata\\local\\packages\\pythonsoftwarefoundation.python.3.11_qbz5n2kfra8p0\\localcache\\local-packages\\python311\\site-packages (from trio~=0.17->selenium) (1.3.0.post0)\n",
      "Requirement already satisfied: sniffio>=1.3.0 in c:\\users\\jacky\\appdata\\local\\packages\\pythonsoftwarefoundation.python.3.11_qbz5n2kfra8p0\\localcache\\local-packages\\python311\\site-packages (from trio~=0.17->selenium) (1.3.1)\n",
      "Requirement already satisfied: cffi>=1.14 in c:\\users\\jacky\\appdata\\local\\packages\\pythonsoftwarefoundation.python.3.11_qbz5n2kfra8p0\\localcache\\local-packages\\python311\\site-packages (from trio~=0.17->selenium) (1.17.1)\n",
      "Requirement already satisfied: wsproto>=0.14 in c:\\users\\jacky\\appdata\\local\\packages\\pythonsoftwarefoundation.python.3.11_qbz5n2kfra8p0\\localcache\\local-packages\\python311\\site-packages (from trio-websocket~=0.9->selenium) (1.2.0)\n",
      "Requirement already satisfied: pysocks!=1.5.7,<2.0,>=1.5.6 in c:\\users\\jacky\\appdata\\local\\packages\\pythonsoftwarefoundation.python.3.11_qbz5n2kfra8p0\\localcache\\local-packages\\python311\\site-packages (from urllib3[socks]<3,>=1.26->selenium) (1.7.1)\n",
      "Requirement already satisfied: pycparser in c:\\users\\jacky\\appdata\\local\\packages\\pythonsoftwarefoundation.python.3.11_qbz5n2kfra8p0\\localcache\\local-packages\\python311\\site-packages (from cffi>=1.14->trio~=0.17->selenium) (2.22)\n",
      "Requirement already satisfied: h11<1,>=0.9.0 in c:\\users\\jacky\\appdata\\local\\packages\\pythonsoftwarefoundation.python.3.11_qbz5n2kfra8p0\\localcache\\local-packages\\python311\\site-packages (from wsproto>=0.14->trio-websocket~=0.9->selenium) (0.14.0)\n",
      "Note: you may need to restart the kernel to use updated packages.\n"
     ]
    },
    {
     "name": "stderr",
     "output_type": "stream",
     "text": [
      "\n",
      "[notice] A new release of pip is available: 24.3.1 -> 25.0.1\n",
      "[notice] To update, run: C:\\Users\\jacky\\AppData\\Local\\Microsoft\\WindowsApps\\PythonSoftwareFoundation.Python.3.11_qbz5n2kfra8p0\\python.exe -m pip install --upgrade pip\n"
     ]
    }
   ],
   "source": [
    "pip install selenium"
   ]
  },
  {
   "cell_type": "markdown",
   "metadata": {},
   "source": [
    "BIBLIOTECAS"
   ]
  },
  {
   "cell_type": "code",
   "execution_count": 5,
   "metadata": {},
   "outputs": [],
   "source": [
    "import pandas as pd"
   ]
  },
  {
   "cell_type": "code",
   "execution_count": 6,
   "metadata": {},
   "outputs": [],
   "source": [
    "from selenium import webdriver\n",
    "from selenium.webdriver.chrome.service import Service\n",
    "from selenium.webdriver.common.by import By\n",
    "import time"
   ]
  },
  {
   "cell_type": "code",
   "execution_count": 48,
   "metadata": {},
   "outputs": [],
   "source": [
    "service = Service()\n",
    "\n",
    "options = webdriver.ChromeOptions()\n",
    "\n",
    "driver = webdriver.Chrome(service=service, options=options)\n"
   ]
  },
  {
   "cell_type": "code",
   "execution_count": 49,
   "metadata": {},
   "outputs": [],
   "source": [
    "url = 'https://www.puravida.com.br/proteinas'\n",
    "\n",
    "driver.get(url)"
   ]
  },
  {
   "cell_type": "code",
   "execution_count": 9,
   "metadata": {},
   "outputs": [
    {
     "data": {
      "text/plain": [
       "'R$ 244,97'"
      ]
     },
     "execution_count": 9,
     "metadata": {},
     "output_type": "execute_result"
    }
   ],
   "source": [
    "driver.find_elements(By.TAG_NAME, 'div')[1000].text\n"
   ]
  },
  {
   "cell_type": "code",
   "execution_count": 14,
   "metadata": {},
   "outputs": [
    {
     "name": "stdout",
     "output_type": "stream",
     "text": [
      "\n",
      "\n",
      "\n",
      "\n",
      "\n",
      "\n",
      "\n",
      "\n",
      "\n",
      "\n",
      "\n",
      "\n",
      "\n",
      "\n"
     ]
    }
   ],
   "source": [
    "description = driver.find_elements(By.CLASS_NAME, 'justify-content-center')\n",
    "for descricao in description:\n",
    "    print(descricao.text)\n"
   ]
  },
  {
   "cell_type": "code",
   "execution_count": 15,
   "metadata": {},
   "outputs": [
    {
     "name": "stdout",
     "output_type": "stream",
     "text": [
      "\n",
      "\n",
      "\n",
      "\n"
     ]
    }
   ],
   "source": [
    "text = driver.find_elements(By.CLASS_NAME, 'desk-break')\n",
    "for textos in text:\n",
    "    print(textos.text)"
   ]
  },
  {
   "cell_type": "code",
   "execution_count": 106,
   "metadata": {},
   "outputs": [],
   "source": [
    "driver.back()"
   ]
  },
  {
   "cell_type": "code",
   "execution_count": 52,
   "metadata": {},
   "outputs": [
    {
     "data": {
      "text/plain": [
       "['alemã Verisol®, comprovada cientificamente como o melhor colágeno do mundo para a pele. É uma fonte de proteína de excepcional biodisponibilidade. Sua digestão é simples e fácil, e os aminoácidos são normalmente assimilados em poucos minutos, sem demandar esforço digestivo. Os peptídeos de colágeno são uma boa alternativa para quem tem dificuldades em digerir e assimilar outros tipos de proteínas. Especialmente desenvolvido com biotina, vitamina que auxilia no metabolismo de proteínas, carboidratos e gorduras, contribui para a manutenção do cabelo, da pele e ajuda na preservação das mucosas.',\n",
       " 'alemã Verisol®, comprovada cientificamente como o melhor colágeno do mundo para a pele. É uma fonte de proteína de excepcional biodisponibilidade. Sua digestão é simples e fácil, e os aminoácidos são normalmente assimilados em poucos minutos, sem demandar esforço digestivo. Os peptídeos de colágeno são uma boa alternativa para quem tem dificuldades em digerir e assimilar outros tipos de proteínas. Especialmente desenvolvido com biotina, vitamina que auxilia no metabolismo de proteínas, carboidratos e gorduras, contribui para a manutenção do cabelo, da pele e ajuda na preservação das mucosas.',\n",
       " 'alemã Verisol®, comprovada cientificamente como o melhor colágeno do mundo para a pele. É uma fonte de proteína de excepcional biodisponibilidade. Sua digestão é simples e fácil, e os aminoácidos são normalmente assimilados em poucos minutos, sem demandar esforço digestivo. Os peptídeos de colágeno são uma boa alternativa para quem tem dificuldades em digerir e assimilar outros tipos de proteínas. Especialmente desenvolvido com biotina, vitamina que auxilia no metabolismo de proteínas, carboidratos e gorduras, contribui para a manutenção do cabelo e da pele e ajuda na preservação das mucosas.',\n",
       " 'alemã Verisol®, comprovada cientificamente como o melhor colágeno do mundo para a pele. É uma fonte de proteína de excepcional biodisponibilidade. Sua digestão é simples e fácil, e os aminoácidos são normalmente assimilados em poucos minutos, sem demandar esforço digestivo. Os peptídeos de colágeno são uma boa alternativa para quem tem dificuldades em digerir e assimilar outros tipos de proteínas. Especialmente desenvolvido com biotina, vitamina que auxilia no metabolismo de proteínas, carboidratos e gorduras, contribui para a manutenção do cabelo, da pele e ajuda na preservação das mucosas.',\n",
       " 'alemã Verisol®, comprovada cientificamente como o melhor colágeno do mundo para a pele. É uma fonte de proteína de excepcional biodisponibilidade. Sua digestão é simples e fácil, e os aminoácidos são normalmente assimilados em poucos minutos, sem demandar esforço digestivo. Os peptídeos de colágeno são uma boa alternativa para quem tem dificuldades em digerir e assimilar outros tipos de proteínas. Especialmente desenvolvido com biotina, vitamina que auxilia no metabolismo de proteínas, carboidratos e gorduras, contribui para a manutenção do cabelo, da pele e ajuda na preservação das mucosas.',\n",
       " 'TEXTURA CREMOSA, SABOR INCRÍVEL A palavra proteína deriva de \"proteios\", de origem grega. Seu significado original é de fundamental importância. Proteína é matéria-prima de síntese, representando 20% da composição do nosso organismo. São “tijolos” essenciais para que o organismo obtenha aquilo que precisa para estruturar sua complexa estrutura fisiológica. O colágeno da pele e dos ossos é sintetizado principalmente a partir das proteínas (+ vitaminas e minerais) que o organismo obtém através da nutrição. O mesmo pode ser dito em relação aos músculos. De proteína são feitas as enzimas digestivas e sistêmicas, responsáveis por milhares de reações necessárias à saúde. Deste modo, não é difícil concordar com sua origem etimológica: Proteios - \"de importância fundamental\". WHEY É UNIVERSAL, UMA DÁDIVA NATURAL',\n",
       " 'TEXTURA CREMOSA, SABOR INCRÍVEL A palavra proteína deriva de \"proteios\", de origem grega. Seu significado original é de fundamental importância\". Proteína é matéria-prima de síntese, representando 20% da composição do nosso organismo. São “tijolos” essenciais para que o organismo obtenha aquilo que precisa para estruturar sua complexa estrutura fisiológica. O colágeno da pele e dos ossos é sintetizado principalmente a partir das proteínas (+ vitaminas e minerais) que o organismo obtém através da nutrição. O mesmo pode ser dito em relação aos músculos que estruturam a espinha dorsal e que possibilitam se mover, caminhar e viver com qualidade. De proteína são feitas as enzimas digestivas e sistêmicas, responsáveis por milhares de reações necessárias à saúde. A glutationa, rainha dos antioxidantes endógenos, também é produzida, principalmente a partir de combinação de aminoácidos.',\n",
       " 'TEXTURA CREMOSA, SABOR INCRÍVEL A palavra proteína deriva de \"proteios\", de origem grega. Seu significado original é de fundamental importância\". Proteína é matéria-prima de síntese, representando 20% da composição do nosso organismo. São “tijolos” essenciais para que o organismo obtenha aquilo que precisa para estruturar sua complexa estrutura fisiológica. O colágeno da pele e dos ossos é sintetizado principalmente a partir das proteínas (+ vitaminas e minerais) que o organismo obtém através da nutrição. O mesmo pode ser dito em relação aos músculos De proteína são feitas as enzimas digestivas e sistêmicas, responsáveis por milhares de reações necessárias à saúde. Deste modo, não é difícil concordar com sua origem etimológica: Proteios - \"de importância fundamental\". WHEY É UNIVERSAL, UMA DÁDIVA NATURAL',\n",
       " 'TEXTURA CREMOSA, SABOR INCRÍVEL A palavra proteína deriva de \"proteios\", de origem grega. Seu significado original é de fundamental importância\". Proteína é matéria-prima de síntese, representando 20% da composição do nosso organismo. São “tijolos” essenciais para que o organismo obtenha aquilo que precisa para estruturar sua complexa estrutura fisiológica. O colágeno da pele e dos ossos é sintetizado principalmente a partir das proteínas (+ vitaminas e minerais) que o organismo obtém através da nutrição. O mesmo pode ser dito em relação aos músculos que estruturam a espinha dorsal e que possibilitam se mover, caminhar e viver com qualidade. De proteína são feitas as enzimas digestivas e sistêmicas, responsáveis por milhares de reações necessárias à saúde. A glutationa, rainha dos antioxidantes endógenos, também é produzida, principalmente a partir de combinação de aminoácidos.',\n",
       " 'Puravida. Todos os dias, fazemos a mesma pergunta: como podemos ser melhor do que ontem? E foi com esse comprometimento que nossa equipe de especialistas chegou a essa absoluta qualidade de proteína. Será um prazer compartilhar com você o sabor e a cremosidade do Whey 100% Isolado Dark Chocolate. Entre todas as fontes proteicas já analisadas, a proteína isolada do soro do leite (whey) é considerada o padrão ouro de perfil de aminoácidos e facilidade de assimilação. O soro é um líquido precioso, resultante do processo de produção dos queijos. A proteína extraída desse soro é mundialmente conhecida pelo altíssimo',\n",
       " 'TEXTURA CREMOSA, SABOR INCRÍVEL A palavra proteína deriva de \"proteios\", de origem grega. Seu significado original é de fundamental importância\". Proteína é matéria-prima de síntese, representando 20% da composição do nosso organismo. São “tijolos” essenciais para que o organismo obtenha aquilo que precisa para estruturar sua complexa estrutura fisiológica. O colágeno da pele e dos ossos é sintetizado principalmente a partir das proteínas (+ vitaminas e minerais) que o organismo obtém através da nutrição. O mesmo pode ser dito em relação aos músculos que estruturam a espinha dorsal e que possibilitam se mover, caminhar e viver com qualidade. De proteína são feitas as enzimas digestivas e sistêmicas, responsáveis por milhares de reações necessárias à saúde. A glutationa, rainha dos antioxidantes endógenos, também é produzida, principalmente a partir de combinação de aminoácidos.',\n",
       " 'proteína isolada do soro do leite (whey) é considerada o padrão ouro de perfil de aminoácidos e facilidade de assimilação. O soro é um líquido precioso, resultante do processo de produção dos queijos. A proteína extraída desse soro é mundialmente conhecida pelo altíssimo valor biológico, e é dela a nota máxima (100) perante a qual todas as outras são comparadas. Essa proteína possui TODOS os aminoácidos essenciais. Oferece, ainda, a incrível glutamina, além de 4,8 gramas por porção dos aminoácidos de cadeia ramificada (BCAA). O puro soro do leite passa por diversos mecanismos de filtragem para que reste apenas a mais pura',\n",
       " 'Puravida. Todos os dias, fazemos a mesma pergunta: como podemos ser melhor do que ontem? E foi com esse comprometimento que nossa equipe de especialistas chegou a essa absoluta qualidade de proteína. Será um prazer compartilhar com você o sabor e a cremosidade do Whey 100% Isolado Isolado Neutro . Entre todas as fontes proteicas já analisadas, a proteína isolada do soro do leite (whey) é considerada o padrão ouro de perfil de aminoácidos e facilidade de assimilação. O soro é um líquido precioso, resultante do processo de produção dos queijos. A proteína extraída desse soro é mundialmente conhecida pelo altíssimo',\n",
       " 'Puravida. Todos os dias, fazemos a mesma pergunta: como podemos ser melhor do que ontem? E foi com esse comprometimento que nossa equipe de especialistas chegou a essa absoluta qualidade de proteína. Será um prazer compartilhar com você o sabor e a cremosidade do Whey 100% Isolado Dark Chocolate. Entre todas as fontes proteicas já analisadas, a proteína isolada do soro do leite (whey) é considerada o padrão ouro de perfil de aminoácidos e facilidade de assimilação. O soro é um líquido precioso, resultante do processo de produção dos queijos. A proteína extraída desse soro é mundialmente conhecida pelo altíssimo',\n",
       " 'proteína isolada do soro do leite (whey) é considerada o padrão ouro de perfil de aminoácidos e facilidade de assimilação. O soro é um líquido precioso, resultante do processo de produção dos queijos. A proteína extraída desse soro é mundialmente conhecida pelo altíssimo valor biológico, e é dela a nota máxima (100) perante a qual todas as outras são comparadas. Essa proteína possui TODOS os aminoácidos essenciais. Oferece, ainda, a incrível glutamina, além de 4,8 gramas por porção dos aminoácidos de cadeia ramificada (BCAA). O puro soro do leite passa por diversos mecanismos de filtragem para que reste apenas a mais pura',\n",
       " 'Puravida. Todos os dias, fazemos a mesma pergunta: como podemos ser melhor do que ontem? E foi com esse comprometimento que nossa equipe de especialistas chegou a essa absoluta qualidade de proteína. Será um prazer compartilhar com você o sabor e a cremosidade do Whey 100% Isolado Isolado Neutro . Entre todas as fontes proteicas já analisadas, a proteína isolada do soro do leite (whey) é considerada o padrão ouro de perfil de aminoácidos e facilidade de assimilação. O soro é um líquido precioso, resultante do processo de produção dos queijos. A proteína extraída desse soro é mundialmente conhecida pelo altíssimo',\n",
       " 'COM VITAMINAS E MINERAIS. Na busca por um blend de proteínas vegetais de primeira qualidade, a equipe de especialistas da Puravida escolheu combinar duas das melhores fontes: ervilha e girassol Além disso, ainda oferece a glutamina e os aminoácidos de cadeia ramificada, conhecidos como BCAA, na quantidade de 3,2g por porção. MAIS DO QUE PROTEÍNA: VITAMINAS E MINERAIS FUNDAMENTAIS. O Vegan Protein fornece ainda uma série de micronutrientes vitais, dentre os quais aqueles que mais costumam faltar em dietas veganas e para aquelas pessoas que consomem pouco ou nenhum alimento de origem animal. O corpo humano precisa de vitamina B12 para auxiliar',\n",
       " '20% da composição do nosso organismo. São “tijolos” para estruturar sua complexa estrutura fisiológica. O colágeno da pele e dos ossos é sintetizado principalmente O mesmo pode ser dito em relação aos músculos A glutationa, rainha dos antioxidantes endógenos, também de aminoácidos. Sim - proteína nutricional protege, preserva e repara etimológica: Proteios - \"de importância fundamental\". Alimentos proteicos são os que mais oferecem densidade mais equilibrada. É uma proteína vegana de alta qualidade, que agora conta O ONE é composto de frutas, verduras e legumes frescos prática e deliciosa de oferecer nutrição concentrada para foi formulado para oferecer uma experiência agradável',\n",
       " 'COM VITAMINAS E MINERAIS. Na busca por um blend de proteínas vegetais de primeira qualidade, a equipe de especialistas da Puravida escolheu combinar duas das melhores fontes: ervilha e girassol. Além disso, ainda oferece a glutamina e os aminoácidos de cadeia ramificada, conhecidos como BCAA, na quantidade de 3,2g por porção. MAIS DO QUE PROTEÍNA: VITAMINAS E MINERAIS FUNDAMENTAIS. O Vegan Protein fornece ainda uma série de micronutrientes vitais, dentre os quais aqueles que mais costumam faltar em dietas veganas e para aquelas pessoas que consomem pouco ou nenhum alimento de origem animal. O corpo humano precisa de vitamina B12 para auxiliar',\n",
       " 'a riqueza de um nutriente primordial:proteína. Sua experiência leve é proporcionada pela tecnologia Clear: a riqueza da proteína, sem a textura mais densa e cremosa do whey tradicional. Assim, o líquido se torna menos viscoso, conservando integralmente a qualidade dos nutrientes. PURAJUICE é uma opção inovadora, com sabor inigualável e zero açúcar: para ajudar você a substituir calorias vazias por riqueza nutricional. É perfeito para qualquer momento: acompanhar refeições, lanches, preparar uma porção individual ou então um jarra para compartilhar com quem você ama. Sirva em encontros com amigos ou no almoço de família.',\n",
       " 'a riqueza de um nutriente primordial: proteína. Sua experiência leve é proporcionada pela tecnologia Clear: a riqueza da proteína, sem a textura mais densa e cremosa do whey tradicional. Assim, o líquido se tornamenos viscoso,conservando integralmente a qualidade dos nutrientes. PURAJUICE é uma opção inovadora, com sabor inigualável e zero açúcar: para ajudar você a substituir calorias vazias por riqueza nutricional. É perfeito para qualquer momento: acompanhar refeições, lanches, preparar uma porção individual ou então um jarra para compartilhar com quem você ama. Sirva em encontros com amigos ou no almoço de família.',\n",
       " '',\n",
       " 'E INSTANTÂNEA?',\n",
       " '20% da composição do nosso organismo. São “tijolos” para estruturar sua complexa estrutura fisiológica. O mesmo pode ser dito em relação aos músculos De proteína são feitas as enzimas digestivas e sistêmicas, responsáveis por milhares de reações necessárias à saúde. Sim - proteína nutricional protege, preserva e repara etimológica: Proteios - \"de importância fundamental\". Alimentos proteicos são os que mais oferecem densidade mais equilibrada. ONE é um complexo nutritivo de frutas, verduras e legumes concentrados, além de um blend de vitaminas, antioxidantes e minerais essenciais em dose concentrada. É uma proteína vegana de alta qualidade, que agora conta O ONE é composto de frutas, verduras e legumes prática e deliciosa de oferecer nutrição concentrada para foi formulado para oferecer uma experiência agradável',\n",
       " 'TEXTURA CREMOSA, SABOR INCRÍVEL A palavra proteína deriva de \"proteios\", de origem grega. Seu significado original é de fundamental importância\". Proteína é matéria-prima de síntese, representando 20% da composição do nosso organismo. São “tijolos” essenciais para que o organismo obtenha aquilo que precisa para estruturar sua complexa estrutura fisiológica. O colágeno da pele e dos ossos é sintetizado principalmente a partir das proteínas (+ vitaminas e minerais) que o organismo obtém através da nutrição. O mesmo pode ser dito em relação aos músculos que estruturam a espinha dorsal e que possibilitam se mover, caminhar e viver com qualidade. De proteína são feitas as enzimas digestivas e sistêmicas, responsáveis por milhares de reações necessárias à saúde. A glutationa, rainha dos antioxidantes endógenos, também é produzida, principalmente a partir de combinação de aminoácidos.',\n",
       " 'TEXTURA CREMOSA, SABOR INCRÍVEL A palavra proteína deriva de \"proteios\", de origem grega. Seu significado original é de fundamental importância\". Proteína é matéria-prima de síntese, representando 20% da composição do nosso organismo. São “tijolos” essenciais para que o organismo obtenha aquilo que precisa para estruturar sua complexa estrutura fisiológica. O colágeno da pele e dos ossos é sintetizado principalmente a partir das proteínas (+ vitaminas e minerais) que o organismo obtém através da nutrição. O mesmo pode ser dito em relação aos músculos que estruturam a espinha dorsal e que possibilitam se mover, caminhar e viver com qualidade. De proteína são feitas as enzimas digestivas e sistêmicas, responsáveis por milhares de reações necessárias à saúde. A glutationa, rainha dos antioxidantes endógenos, também é produzida, principalmente a partir de combinação de aminoácidos.',\n",
       " '20% da composição do nosso organismo. São “tijolos” para estruturar sua complexa estrutura fisiológica. O mesmo pode ser dito em relação aos músculos Sim - proteína nutricional protege, preserva e repara etimológica: Proteios - \"de importância fundamental\". Alimentos proteicos são os que mais oferecem densidade mais equilibrada. ONE é um complexo nutritivo de frutas, verduras e legumes concentrados, além de um blend de vitaminas, antioxidantes e minerais essenciais em dose concentrada. É uma proteína vegana de alta qualidade, que agora conta O ONE é composto de frutas, verduras e legumes prática e deliciosa de oferecer nutrição concentrada para foi formulado para oferecer uma experiência agradável',\n",
       " '20% da composição do nosso organismo. São “tijolos” para estruturar sua complexa estrutura fisiológica. O colágeno da pele e dos ossos é sintetizado principalmente O mesmo pode ser dito em relação aos músculos A glutationa, rainha dos antioxidantes endógenos, também de aminoácidos. Sim - proteína nutricional protege, preserva e repara etimológica: Proteios - \"de importância fundamental\". Alimentos proteicos são os que mais oferecem densidade mais equilibrada. É uma proteína vegana de alta qualidade, que agora conta O ONE é composto de frutas, verduras e legumes frescos prática e deliciosa de oferecer nutrição concentrada para foi formulado para oferecer uma experiência agradável',\n",
       " 'COM VITAMINAS E MINERAIS. Na busca por um blend de proteínas vegetais de primeira qualidade, a equipe de especialistas da Puravida escolheu combinar duas das melhores fontes: ervilha e girassol. Além disso, ainda oferece a glutamina e os aminoácidos de cadeia ramificada, conhecidos como BCAA, na quantidade de 3,2g por porção. MAIS DO QUE PROTEÍNA: VITAMINAS E MINERAIS FUNDAMENTAIS. O Vegan Protein fornece ainda uma série de micronutrientes vitais, dentre os quais aqueles que mais costumam faltar em dietas veganas e para aquelas pessoas que consomem pouco ou nenhum alimento de origem animal. O corpo humano precisa de vitamina B12 para auxiliar',\n",
       " 'COM VITAMINAS E MINERAIS. Na busca por um blend de proteínas vegetais de primeira qualidade, a equipe de especialistas da Puravida escolheu combinar duas das melhores fontes: ervilha e girassol. Além disso, ainda oferece a glutamina e os aminoácidos de cadeia ramificada, conhecidos como BCAA, na quantidade de 3,2g por porção. MAIS DO QUE PROTEÍNA: VITAMINAS E MINERAIS FUNDAMENTAIS. O Vegan Protein fornece ainda uma série de micronutrientes vitais, dentre os quais aqueles que mais costumam faltar em dietas veganas e para aquelas pessoas que consomem pouco ou nenhum alimento de origem animal. O corpo humano precisa de vitamina B12 para auxiliar',\n",
       " 'alemã Verisol®, comprovada cientificamente como o melhor colágeno do mundo para a pele. É uma fonte de proteína de excepcional biodisponibilidade. Sua digestão é simples e fácil, e os aminoácidos são normalmente assimilados em poucos minutos, sem demandar esforço digestivo. Os peptídeos de colágeno são uma boa alternativa para quem tem dificuldades em digerir e assimilar outros tipos de proteínas. Especialmente desenvolvido com biotina, vitamina que auxilia no metabolismo de proteínas, carboidratos e gorduras, contribui para a manutenção do cabelo e da pele e ajuda na preservação das mucosas.']"
      ]
     },
     "execution_count": 52,
     "metadata": {},
     "output_type": "execute_result"
    }
   ],
   "source": [
    "titulos = driver.find_elements(By.CLASS_NAME, 'product-name')[0:32:1]\n",
    "\n",
    "title_list = []\n",
    "descricao_list = []\n",
    "for i in range(31):\n",
    "    titulos = driver.find_elements(By.CLASS_NAME, 'product-name')\n",
    "    \n",
    "    titulo_produto = titulos[i].text  # Obtém o título específico\n",
    "    title_list.append(titulo_produto)\n",
    "\n",
    "    titulos[i].click()\n",
    "    time.sleep(2)  \n",
    "\n",
    "    #teste pro primeiro texto\n",
    "    descriptions = driver.find_elements(By.CLASS_NAME, 'desk-break')[4:18]\n",
    "\n",
    "    # Extrai o texto de cada elemento e adiciona à lista\n",
    "    descricao_textos = [desc.text for desc in descriptions]\n",
    "\n",
    "    descricao_list.append(\" \".join(descricao_textos))\n",
    "\n",
    "    driver.back()\n",
    "    time.sleep(2)  \n",
    "\n",
    "\n",
    "driver.quit()\n",
    "\n",
    "descricao_list"
   ]
  },
  {
   "cell_type": "code",
   "execution_count": 53,
   "metadata": {},
   "outputs": [
    {
     "data": {
      "text/html": [
       "<div>\n",
       "<style scoped>\n",
       "    .dataframe tbody tr th:only-of-type {\n",
       "        vertical-align: middle;\n",
       "    }\n",
       "\n",
       "    .dataframe tbody tr th {\n",
       "        vertical-align: top;\n",
       "    }\n",
       "\n",
       "    .dataframe thead th {\n",
       "        text-align: right;\n",
       "    }\n",
       "</style>\n",
       "<table border=\"1\" class=\"dataframe\">\n",
       "  <thead>\n",
       "    <tr style=\"text-align: right;\">\n",
       "      <th></th>\n",
       "      <th>title</th>\n",
       "      <th>descricao</th>\n",
       "    </tr>\n",
       "  </thead>\n",
       "  <tbody>\n",
       "    <tr>\n",
       "      <th>0</th>\n",
       "      <td>COLLAGEN PROTEIN</td>\n",
       "      <td>alemã Verisol®, comprovada cientificamente com...</td>\n",
       "    </tr>\n",
       "    <tr>\n",
       "      <th>1</th>\n",
       "      <td>COLLAGEN PROTEIN BERRIES 450G</td>\n",
       "      <td>alemã Verisol®, comprovada cientificamente com...</td>\n",
       "    </tr>\n",
       "    <tr>\n",
       "      <th>2</th>\n",
       "      <td>COLLAGEN PROTEIN</td>\n",
       "      <td>alemã Verisol®, comprovada cientificamente com...</td>\n",
       "    </tr>\n",
       "    <tr>\n",
       "      <th>3</th>\n",
       "      <td>COLLAGEN PROTEIN</td>\n",
       "      <td>alemã Verisol®, comprovada cientificamente com...</td>\n",
       "    </tr>\n",
       "    <tr>\n",
       "      <th>4</th>\n",
       "      <td>COLLAGEN PROTEIN</td>\n",
       "      <td>alemã Verisol®, comprovada cientificamente com...</td>\n",
       "    </tr>\n",
       "    <tr>\n",
       "      <th>5</th>\n",
       "      <td>WHEY PROTEIN GRASSFED</td>\n",
       "      <td>TEXTURA CREMOSA, SABOR INCRÍVEL A palavra prot...</td>\n",
       "    </tr>\n",
       "    <tr>\n",
       "      <th>6</th>\n",
       "      <td>WHEY PROTEIN GRASSFED VANILLA</td>\n",
       "      <td>TEXTURA CREMOSA, SABOR INCRÍVEL A palavra prot...</td>\n",
       "    </tr>\n",
       "    <tr>\n",
       "      <th>7</th>\n",
       "      <td>WHEY PROTEIN GRASSFED NEUTRO</td>\n",
       "      <td>TEXTURA CREMOSA, SABOR INCRÍVEL A palavra prot...</td>\n",
       "    </tr>\n",
       "    <tr>\n",
       "      <th>8</th>\n",
       "      <td>WHEY PROTEIN GRASSFED FRAMBOESA</td>\n",
       "      <td>TEXTURA CREMOSA, SABOR INCRÍVEL A palavra prot...</td>\n",
       "    </tr>\n",
       "    <tr>\n",
       "      <th>9</th>\n",
       "      <td>WHEY PROTEIN ISOLADO</td>\n",
       "      <td>Puravida. Todos os dias, fazemos a mesma pergu...</td>\n",
       "    </tr>\n",
       "    <tr>\n",
       "      <th>10</th>\n",
       "      <td>WHEY PROTEIN GRASSFED</td>\n",
       "      <td>TEXTURA CREMOSA, SABOR INCRÍVEL A palavra prot...</td>\n",
       "    </tr>\n",
       "    <tr>\n",
       "      <th>11</th>\n",
       "      <td>WHEY PROTEIN ISOLADO</td>\n",
       "      <td>proteína isolada do soro do leite (whey) é con...</td>\n",
       "    </tr>\n",
       "    <tr>\n",
       "      <th>12</th>\n",
       "      <td>WHEY PROTEIN ISOLADO</td>\n",
       "      <td>Puravida. Todos os dias, fazemos a mesma pergu...</td>\n",
       "    </tr>\n",
       "    <tr>\n",
       "      <th>13</th>\n",
       "      <td>WHEY PROTEIN ISOLADO</td>\n",
       "      <td>Puravida. Todos os dias, fazemos a mesma pergu...</td>\n",
       "    </tr>\n",
       "    <tr>\n",
       "      <th>14</th>\n",
       "      <td>WHEY PROTEIN ISOLADO</td>\n",
       "      <td>proteína isolada do soro do leite (whey) é con...</td>\n",
       "    </tr>\n",
       "    <tr>\n",
       "      <th>15</th>\n",
       "      <td>WHEY PROTEIN ISOLADO</td>\n",
       "      <td>Puravida. Todos os dias, fazemos a mesma pergu...</td>\n",
       "    </tr>\n",
       "    <tr>\n",
       "      <th>16</th>\n",
       "      <td>VEGAN PROTEIN</td>\n",
       "      <td>COM VITAMINAS E MINERAIS. Na busca por um blen...</td>\n",
       "    </tr>\n",
       "    <tr>\n",
       "      <th>17</th>\n",
       "      <td>ONE NUTRITION</td>\n",
       "      <td>20% da composição do nosso organismo. São “tij...</td>\n",
       "    </tr>\n",
       "    <tr>\n",
       "      <th>18</th>\n",
       "      <td>VEGAN PROTEIN</td>\n",
       "      <td>COM VITAMINAS E MINERAIS. Na busca por um blen...</td>\n",
       "    </tr>\n",
       "    <tr>\n",
       "      <th>19</th>\n",
       "      <td>PURAJUICE PROTEIN</td>\n",
       "      <td>a riqueza de um nutriente primordial:proteína....</td>\n",
       "    </tr>\n",
       "    <tr>\n",
       "      <th>20</th>\n",
       "      <td>PURAJUICE PROTEIN</td>\n",
       "      <td>a riqueza de um nutriente primordial: proteína...</td>\n",
       "    </tr>\n",
       "    <tr>\n",
       "      <th>21</th>\n",
       "      <td>NATURAL PROTEIN SOUP</td>\n",
       "      <td></td>\n",
       "    </tr>\n",
       "    <tr>\n",
       "      <th>22</th>\n",
       "      <td>NATURAL PROTEIN SOUP</td>\n",
       "      <td>E INSTANTÂNEA?</td>\n",
       "    </tr>\n",
       "    <tr>\n",
       "      <th>23</th>\n",
       "      <td>ONE NUTRITION</td>\n",
       "      <td>20% da composição do nosso organismo. São “tij...</td>\n",
       "    </tr>\n",
       "    <tr>\n",
       "      <th>24</th>\n",
       "      <td>WHEY PROTEIN GRASSFED SACHE</td>\n",
       "      <td>TEXTURA CREMOSA, SABOR INCRÍVEL A palavra prot...</td>\n",
       "    </tr>\n",
       "    <tr>\n",
       "      <th>25</th>\n",
       "      <td>WHEY PROTEIN GRASSFED SACHE</td>\n",
       "      <td>TEXTURA CREMOSA, SABOR INCRÍVEL A palavra prot...</td>\n",
       "    </tr>\n",
       "    <tr>\n",
       "      <th>26</th>\n",
       "      <td>ONE NUTRITION SACHE</td>\n",
       "      <td>20% da composição do nosso organismo. São “tij...</td>\n",
       "    </tr>\n",
       "    <tr>\n",
       "      <th>27</th>\n",
       "      <td>ONE NUTRITION</td>\n",
       "      <td>20% da composição do nosso organismo. São “tij...</td>\n",
       "    </tr>\n",
       "    <tr>\n",
       "      <th>28</th>\n",
       "      <td>VEGAN PROTEIN</td>\n",
       "      <td>COM VITAMINAS E MINERAIS. Na busca por um blen...</td>\n",
       "    </tr>\n",
       "    <tr>\n",
       "      <th>29</th>\n",
       "      <td>VEGAN PROTEIN</td>\n",
       "      <td>COM VITAMINAS E MINERAIS. Na busca por um blen...</td>\n",
       "    </tr>\n",
       "    <tr>\n",
       "      <th>30</th>\n",
       "      <td>COLLAGEN PROTEIN</td>\n",
       "      <td>alemã Verisol®, comprovada cientificamente com...</td>\n",
       "    </tr>\n",
       "  </tbody>\n",
       "</table>\n",
       "</div>"
      ],
      "text/plain": [
       "                              title  \\\n",
       "0                  COLLAGEN PROTEIN   \n",
       "1     COLLAGEN PROTEIN BERRIES 450G   \n",
       "2                  COLLAGEN PROTEIN   \n",
       "3                  COLLAGEN PROTEIN   \n",
       "4                  COLLAGEN PROTEIN   \n",
       "5             WHEY PROTEIN GRASSFED   \n",
       "6     WHEY PROTEIN GRASSFED VANILLA   \n",
       "7      WHEY PROTEIN GRASSFED NEUTRO   \n",
       "8   WHEY PROTEIN GRASSFED FRAMBOESA   \n",
       "9              WHEY PROTEIN ISOLADO   \n",
       "10            WHEY PROTEIN GRASSFED   \n",
       "11             WHEY PROTEIN ISOLADO   \n",
       "12             WHEY PROTEIN ISOLADO   \n",
       "13             WHEY PROTEIN ISOLADO   \n",
       "14             WHEY PROTEIN ISOLADO   \n",
       "15             WHEY PROTEIN ISOLADO   \n",
       "16                    VEGAN PROTEIN   \n",
       "17                    ONE NUTRITION   \n",
       "18                    VEGAN PROTEIN   \n",
       "19                PURAJUICE PROTEIN   \n",
       "20                PURAJUICE PROTEIN   \n",
       "21             NATURAL PROTEIN SOUP   \n",
       "22             NATURAL PROTEIN SOUP   \n",
       "23                    ONE NUTRITION   \n",
       "24      WHEY PROTEIN GRASSFED SACHE   \n",
       "25      WHEY PROTEIN GRASSFED SACHE   \n",
       "26              ONE NUTRITION SACHE   \n",
       "27                    ONE NUTRITION   \n",
       "28                    VEGAN PROTEIN   \n",
       "29                    VEGAN PROTEIN   \n",
       "30                 COLLAGEN PROTEIN   \n",
       "\n",
       "                                            descricao  \n",
       "0   alemã Verisol®, comprovada cientificamente com...  \n",
       "1   alemã Verisol®, comprovada cientificamente com...  \n",
       "2   alemã Verisol®, comprovada cientificamente com...  \n",
       "3   alemã Verisol®, comprovada cientificamente com...  \n",
       "4   alemã Verisol®, comprovada cientificamente com...  \n",
       "5   TEXTURA CREMOSA, SABOR INCRÍVEL A palavra prot...  \n",
       "6   TEXTURA CREMOSA, SABOR INCRÍVEL A palavra prot...  \n",
       "7   TEXTURA CREMOSA, SABOR INCRÍVEL A palavra prot...  \n",
       "8   TEXTURA CREMOSA, SABOR INCRÍVEL A palavra prot...  \n",
       "9   Puravida. Todos os dias, fazemos a mesma pergu...  \n",
       "10  TEXTURA CREMOSA, SABOR INCRÍVEL A palavra prot...  \n",
       "11  proteína isolada do soro do leite (whey) é con...  \n",
       "12  Puravida. Todos os dias, fazemos a mesma pergu...  \n",
       "13  Puravida. Todos os dias, fazemos a mesma pergu...  \n",
       "14  proteína isolada do soro do leite (whey) é con...  \n",
       "15  Puravida. Todos os dias, fazemos a mesma pergu...  \n",
       "16  COM VITAMINAS E MINERAIS. Na busca por um blen...  \n",
       "17  20% da composição do nosso organismo. São “tij...  \n",
       "18  COM VITAMINAS E MINERAIS. Na busca por um blen...  \n",
       "19  a riqueza de um nutriente primordial:proteína....  \n",
       "20  a riqueza de um nutriente primordial: proteína...  \n",
       "21                                                     \n",
       "22                                     E INSTANTÂNEA?  \n",
       "23  20% da composição do nosso organismo. São “tij...  \n",
       "24  TEXTURA CREMOSA, SABOR INCRÍVEL A palavra prot...  \n",
       "25  TEXTURA CREMOSA, SABOR INCRÍVEL A palavra prot...  \n",
       "26  20% da composição do nosso organismo. São “tij...  \n",
       "27  20% da composição do nosso organismo. São “tij...  \n",
       "28  COM VITAMINAS E MINERAIS. Na busca por um blen...  \n",
       "29  COM VITAMINAS E MINERAIS. Na busca por um blen...  \n",
       "30  alemã Verisol®, comprovada cientificamente com...  "
      ]
     },
     "execution_count": 53,
     "metadata": {},
     "output_type": "execute_result"
    }
   ],
   "source": [
    "DF = {'title': title_list,\n",
    "      'descricao': descricao_list}\n",
    "\n",
    "pd.DataFrame(DF)"
   ]
  },
  {
   "cell_type": "code",
   "execution_count": null,
   "metadata": {},
   "outputs": [],
   "source": []
  }
 ],
 "metadata": {
  "kernelspec": {
   "display_name": "Python 3",
   "language": "python",
   "name": "python3"
  },
  "language_info": {
   "codemirror_mode": {
    "name": "ipython",
    "version": 3
   },
   "file_extension": ".py",
   "mimetype": "text/x-python",
   "name": "python",
   "nbconvert_exporter": "python",
   "pygments_lexer": "ipython3",
   "version": "3.11.9"
  }
 },
 "nbformat": 4,
 "nbformat_minor": 2
}
