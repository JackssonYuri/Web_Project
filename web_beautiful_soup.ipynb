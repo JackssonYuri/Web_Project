{
 "cells": [
  {
   "cell_type": "markdown",
   "metadata": {},
   "source": [
    "WEB SCRAPING COM BEAUTIFULSOUP"
   ]
  },
  {
   "cell_type": "code",
   "execution_count": 3,
   "metadata": {},
   "outputs": [],
   "source": [
    "from bs4 import BeautifulSoup\n",
    "import requests #para pegar o html da página"
   ]
  },
  {
   "cell_type": "code",
   "execution_count": 5,
   "metadata": {},
   "outputs": [],
   "source": [
    "url = 'https://www.essentialnutrition.com.br/produtos?indicacoes=264'\n",
    "\n",
    "headers = {'User-Agente': 'Mozilla/5.0 (Windows NT 10.0; Win64; x64) AppleWebKit/537.36 (KHTML, like Gecko) Chrome/133.0.0.0 Safari/537.36'} #identifica que tem alguém acessando o site\n",
    "\n",
    "#what is my user agent\n",
    "\n",
    "page = requests.get(url, headers=headers)"
   ]
  },
  {
   "cell_type": "code",
   "execution_count": null,
   "metadata": {},
   "outputs": [],
   "source": [
    "print(page.text) #HTML da página"
   ]
  },
  {
   "cell_type": "code",
   "execution_count": 7,
   "metadata": {},
   "outputs": [],
   "source": [
    "soup = BeautifulSoup(page.text, 'html.parser') #para poder fazer a manipulação com a biblioteca"
   ]
  },
  {
   "cell_type": "code",
   "execution_count": 27,
   "metadata": {},
   "outputs": [
    {
     "name": "stdout",
     "output_type": "stream",
     "text": [
      "Nome: Fiber Biome Laranja Lata 330g | 30 doses\n",
      "URL: https://www.essentialnutrition.com.br/fiber-biome-blend-fibras-laranja\n",
      "Descrição: Suplemento de fibras FODMAP Friendly | Sabor laranja\n",
      "Nome: Fiber Biome Neutro Lata 300g | 30 doses\n",
      "URL: https://www.essentialnutrition.com.br/fiber-biome-blend-fibras\n",
      "Descrição: Suplemento de fibras com certificação FODMAP Friendly | Sabor Neutro.\n",
      "Nome: Brainstorm Coffee Lata 186g | 20 doses\n",
      "URL: https://www.essentialnutrition.com.br/brainstorm-coffee-cafe\n",
      "Descrição: Café funcional | Sabor café e especiarias\n",
      "Nome: Brainstorm Coffee Caramel Latte Lata 274g | 20 doses\n",
      "URL: https://www.essentialnutrition.com.br/brainstorm-coffee-caramel-latte\n",
      "Descrição: Café funcional | Sabor caramelo\n",
      "Nome: Collagen Pept Protein 250ml\n",
      "URL: https://www.essentialnutrition.com.br/collagen-pept-protein-bebida-proteica\n",
      "Descrição: Bebida proteica de colágeno | Sabor chocolate belga\n",
      "Nome: Amino Greens Lata 261g | 30 doses\n",
      "URL: https://www.essentialnutrition.com.br/amino-greens-limao\n",
      "Descrição: Pool de aminoácidos essenciais + magnésio + vitamina B6 | Sabor suco verde e limão yuzu\n",
      "Nome: Mondz 50g\n",
      "URL: https://www.essentialnutrition.com.br/mondz-amendoas-com-chocolate\n",
      "Descrição: Amêndoas cobertas com dupla camada de Chocolift\n",
      "Nome: CoQ10 60 caps | 30 doses\n",
      "URL: https://www.essentialnutrition.com.br/coq10-em-capsula\n",
      "Descrição: Coenzima Q10 + Ômega-3 TG + Vitamina E\n",
      "Nome: Chocolift Be Powerful Barra 40g\n",
      "URL: https://www.essentialnutrition.com.br/chocolift-be-powerful-chocolate-whey-protein-nibs-de-cacau\n",
      "Descrição: Chocolate com whey protein e nibs de cacau\n",
      "Nome: Chocolift Be Powerful  Box 480g | 12 barras\n",
      "URL: https://www.essentialnutrition.com.br/chocolift-be-powerful-chocolate-whey-protein-nibs-de-cacau-caixa\n",
      "Descrição: Chocolate com whey protein e nibs de cacau\n",
      "Nome: Aminolift Box 375g | 30 sachês\n",
      "URL: https://www.essentialnutrition.com.br/aminolift-tangerina-box-aminoacidos-magnesio-vitamina-b6\n",
      "Descrição: Pool de aminoácidos essenciais + magnésio + vitamina B6 | Sabor tangerina\n",
      "Nome: Amino Greens Box 261g | 30 sachês\n",
      "URL: https://www.essentialnutrition.com.br/amino-greens-limao-box\n",
      "Descrição: Pool de aminoácidos essenciais + magnésio + vitamina B6 | Sabor suco verde e limão yuzu\n"
     ]
    }
   ],
   "source": [
    "produtos = soup.find_all('a', class_='product-item-link')\n",
    "descricoes = soup.find_all('span', class_='nameComplement')\n",
    "\n",
    "for produto, desc in zip(produtos, descricoes): #zip combina as listas, strip remove os espaços em branco(inicio e fim)\n",
    "    print(\"Nome:\", produto.text.strip())\n",
    "    print(\"URL:\", produto['href'])\n",
    "    print(\"Descrição:\", desc.text.strip())\n"
   ]
  },
  {
   "cell_type": "code",
   "execution_count": null,
   "metadata": {},
   "outputs": [],
   "source": []
  }
 ],
 "metadata": {
  "kernelspec": {
   "display_name": "Python 3",
   "language": "python",
   "name": "python3"
  },
  "language_info": {
   "codemirror_mode": {
    "name": "ipython",
    "version": 3
   },
   "file_extension": ".py",
   "mimetype": "text/x-python",
   "name": "python",
   "nbconvert_exporter": "python",
   "pygments_lexer": "ipython3",
   "version": "3.11.9"
  }
 },
 "nbformat": 4,
 "nbformat_minor": 2
}
