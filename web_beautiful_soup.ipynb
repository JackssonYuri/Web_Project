{
 "cells": [
  {
   "cell_type": "markdown",
   "metadata": {},
   "source": [
    "WEB SCRAPING COM BEAUTIFULSOUP"
   ]
  },
  {
   "cell_type": "code",
   "execution_count": 51,
   "metadata": {},
   "outputs": [],
   "source": [
    "from bs4 import BeautifulSoup\n",
    "import requests #para pegar o html da página"
   ]
  },
  {
   "cell_type": "code",
   "execution_count": 52,
   "metadata": {},
   "outputs": [],
   "source": [
    "url = 'https://www.essentialnutrition.com.br/produtos?indicacoes=264'\n",
    "\n",
    "headers = {'User-Agent': 'Mozilla/5.0 (Windows NT 10.0; Win64; x64) AppleWebKit/537.36 (KHTML, like Gecko) Chrome/133.0.0.0 Safari/537.36'} #identifica que tem alguém acessando o site\n",
    "\n",
    "#what is my user agent\n",
    "\n",
    "page = requests.get(url, headers=headers)"
   ]
  },
  {
   "cell_type": "code",
   "execution_count": null,
   "metadata": {},
   "outputs": [],
   "source": [
    "print(page.text) #HTML da página"
   ]
  },
  {
   "cell_type": "code",
   "execution_count": 59,
   "metadata": {},
   "outputs": [],
   "source": [
    "soup = BeautifulSoup(page.text, 'html.parser') #para poder fazer a manipulação com a biblioteca"
   ]
  },
  {
   "cell_type": "code",
   "execution_count": 63,
   "metadata": {},
   "outputs": [],
   "source": [
    "produtos = soup.find_all('a', class_='product-item-link')\n"
   ]
  },
  {
   "cell_type": "code",
   "execution_count": 64,
   "metadata": {},
   "outputs": [
    {
     "name": "stdout",
     "output_type": "stream",
     "text": [
      "[<a class=\"product-item-link\" href=\"https://www.essentialnutrition.com.br/fiber-biome-blend-fibras-laranja\">\n",
      "                                        Fiber Biome Laranja Lata 330g | 30 doses                                     </a>, <a class=\"product-item-link\" href=\"https://www.essentialnutrition.com.br/fiber-biome-blend-fibras\">\n",
      "                                        Fiber Biome Neutro Lata 300g | 30 doses                                     </a>, <a class=\"product-item-link\" href=\"https://www.essentialnutrition.com.br/brainstorm-coffee-cafe\">\n",
      "                                        Brainstorm Coffee Lata 186g | 20 doses                                    </a>, <a class=\"product-item-link\" href=\"https://www.essentialnutrition.com.br/brainstorm-coffee-caramel-latte\">\n",
      "                                        Brainstorm Coffee Caramel Latte Lata 274g | 20 doses                                    </a>, <a class=\"product-item-link\" href=\"https://www.essentialnutrition.com.br/collagen-pept-protein-bebida-proteica\">\n",
      "                                        Collagen Pept Protein 250ml                                    </a>, <a class=\"product-item-link\" href=\"https://www.essentialnutrition.com.br/amino-greens-limao\">\n",
      "                                        Amino Greens Lata 261g | 30 doses                                    </a>, <a class=\"product-item-link\" href=\"https://www.essentialnutrition.com.br/mondz-amendoas-com-chocolate\">\n",
      "                                        Mondz 50g                                    </a>, <a class=\"product-item-link\" href=\"https://www.essentialnutrition.com.br/coq10-em-capsula\">\n",
      "                                        CoQ10 60 caps | 30 doses                                    </a>, <a class=\"product-item-link\" href=\"https://www.essentialnutrition.com.br/chocolift-be-powerful-chocolate-whey-protein-nibs-de-cacau\">\n",
      "                                        Chocolift Be Powerful Barra 40g                                    </a>, <a class=\"product-item-link\" href=\"https://www.essentialnutrition.com.br/chocolift-be-powerful-chocolate-whey-protein-nibs-de-cacau-caixa\">\n",
      "                                        Chocolift Be Powerful  Box 480g | 12 barras                                    </a>, <a class=\"product-item-link\" href=\"https://www.essentialnutrition.com.br/aminolift-tangerina-box-aminoacidos-magnesio-vitamina-b6\">\n",
      "                                        Aminolift Box 375g | 30 sachês                                    </a>, <a class=\"product-item-link\" href=\"https://www.essentialnutrition.com.br/amino-greens-limao-box\">\n",
      "                                        Amino Greens Box 261g | 30 sachês                                    </a>]\n"
     ]
    }
   ],
   "source": [
    "print(produtos)"
   ]
  },
  {
   "cell_type": "markdown",
   "metadata": {},
   "source": [
    "NOME, LINK E DESCRIÇÃO"
   ]
  },
  {
   "cell_type": "code",
   "execution_count": 66,
   "metadata": {},
   "outputs": [],
   "source": [
    "produtos = soup.find_all('a', class_='product-item-link')  # Nome do produto\n",
    "sabores = soup.find_all('div', class_='product-flavor')  # Sabor\n",
    "descricoes = soup.find_all('div', class_='product-description')  # Descrição\n",
    "precos = soup.find_all('span', class_='price')  # Preço\n",
    "\n",
    "# Extrair e exibir os dados\n",
    "for produto, sabor, descricao, preco in zip(produtos, sabores, descricoes, precos):\n",
    "    nome = produto.text.strip()\n",
    "    sabor_texto = sabor.text.strip() if sabor else \"Não especificado\"\n",
    "    descricao_texto = descricao.text.strip() if descricao else \"Sem descrição\"\n",
    "    preco_texto = preco.text.strip() if preco else \"Preço não disponível\"\n",
    "\n",
    "    print(f\"Nome: {nome}\")\n",
    "    print(f\"Sabor: {sabor_texto}\")\n",
    "    print(f\"Descrição: {descricao_texto}\")\n",
    "    print(f\"Preço: {preco_texto}\")\n",
    "    print(\"-\" * 40)\n"
   ]
  },
  {
   "cell_type": "code",
   "execution_count": 32,
   "metadata": {},
   "outputs": [
    {
     "name": "stdout",
     "output_type": "stream",
     "text": [
      "Nome: COLLAGEN PROTEIN\n",
      "Sabor: SABOR NEUTRO 450 g\n",
      "URL: https://www.puravida.com.br/collagen-protein-neutro-70402\n",
      "Nome: Collagen Protein Berries 450g\n",
      "Sabor: SABOR BERRIES SILVESTRES 450 g\n",
      "URL: https://www.puravida.com.br/collagen-protein-berries-450g-70406\n",
      "Nome: COLLAGEN PROTEIN\n",
      "Sabor: SABOR ABACAXI COM HORTELÃ 450 g\n",
      "URL: https://www.puravida.com.br/collagen-protein-abacaxi-hortela-450-g-70404\n",
      "Nome: COLLAGEN PROTEIN\n",
      "Sabor: NEUTRO 23 g\n",
      "URL: https://www.puravida.com.br/collagen-protein-neutro-sache-70408\n",
      "Nome: COLLAGEN PROTEIN\n",
      "Sabor: BERRIES SILVESTRES 40 g.\n",
      "URL: https://www.puravida.com.br/collagen-protein-berries-sache-70412\n",
      "Nome: COLLAGEN PROTEIN\n",
      "Sabor: SABOR ABACAXI COM HORTELÃ 40 g.\n",
      "URL: https://www.puravida.com.br/collagen-protein-abacaxi-hortela-sache-70410\n",
      "Nome: Whey Protein Grassfed\n",
      "Sabor: Sabor Chocolate Belga 450 g\n",
      "URL: https://www.puravida.com.br/whey-protein-grassfed-70213\n",
      "Nome: Whey Protein Grassfed Vanilla\n",
      "Sabor: Sabor vanilla 450 g\n",
      "URL: https://www.puravida.com.br/whey-protein-grassfed-vanilla-70135\n",
      "Nome: Whey Protein Grassfed Neutro\n",
      "Sabor: Sabor Neutro 450 g\n",
      "URL: https://www.puravida.com.br/whey-protein-grassfed-neutro-70138\n",
      "Nome: Whey Protein Grassfed Framboesa\n",
      "Sabor: Sabor Framboesa 450 g\n",
      "URL: https://www.puravida.com.br/whey-protein-grassfed-framboesa-70136\n",
      "Nome: WHEY PROTEIN ISOLADO\n",
      "Sabor: WHEY 100% ISOLADO DARK CHOCOLATE 30 g\n",
      "URL: https://www.puravida.com.br/whey-protein-isolado-chocolate-sache-70377\n",
      "Nome: Whey Protein Grassfed Sache\n",
      "Sabor: Sabor Chocolate Belga 30 g\n",
      "URL: https://www.puravida.com.br/whey-protein-grassfed-sache-70144\n",
      "Nome: WHEY PROTEIN GRASSFED\n",
      "Sabor: SABOR VANILLA DO TAHITI 30 g\n",
      "URL: https://www.puravida.com.br/whey-protein-grassfed-proteina-whey-sache-70143\n",
      "Nome: Whey Protein Grassfed Sache\n",
      "Sabor: Sabor Framboesa 30 g\n",
      "URL: https://www.puravida.com.br/whey-protein-grassfed-sache-70142\n",
      "Nome: WHEY PROTEIN ISOLADO\n",
      "Sabor: WHEY 100% ISOLADO VANILLA 30 g\n",
      "URL: https://www.puravida.com.br/whey-protein-isolado-vanilla-sache-70376\n",
      "Nome: WHEY PROTEIN ISOLADO\n",
      "Sabor: WHEY 100% ISOLADO NEUTRO 26 g\n",
      "URL: https://www.puravida.com.br/whey-protein-isolado-neutro-sache-70375\n",
      "Nome: WHEY PROTEIN ISOLADO\n",
      "Sabor: WHEY 100% ISOLADO DARK CHOCOLATE 450 g\n",
      "URL: https://www.puravida.com.br/whey-protein-isolado-chocolate-450g-70345\n",
      "Nome: WHEY PROTEIN ISOLADO\n",
      "Sabor: WHEY 100% ISOLADO VANILLA 450 g\n",
      "URL: https://www.puravida.com.br/whey-protein-isolado-vanilla-450g-70346\n",
      "Nome: WHEY PROTEIN ISOLADO\n",
      "Sabor: WHEY 100% ISOLADO NEUTRO 450 g\n",
      "URL: https://www.puravida.com.br/whey-protein-isolado-neutro-450g-70374\n",
      "Nome: ONE NUTRITION\n",
      "Sabor: Sabor Açaí com Banana 450 g\n",
      "URL: https://www.puravida.com.br/one-nutrition-acai-70140\n",
      "Nome: VEGAN PROTEIN\n",
      "Sabor: BLEND DE PROTEÍNAS VEGETAIS SABOR VANILLA 450 g\n",
      "URL: https://www.puravida.com.br/vegan-protein-vanilla-450g-70344\n",
      "Nome: ONE NUTRITION\n",
      "Sabor: Sabor Chocolate 450 g\n",
      "URL: https://www.puravida.com.br/one-nutrition-chocolate-70141\n",
      "Nome: VEGAN PROTEIN\n",
      "Sabor: BLEND DE PROTEÍNAS VEGETAIS SABOR NEUTRO 450 g\n",
      "URL: https://www.puravida.com.br/vegan-protein-neutro-450g-70343\n",
      "Nome: One Nutrition Sache\n",
      "Sabor: Sabor Açaí com Banana 45 g\n",
      "URL: https://www.puravida.com.br/one-nutrition-sache-70223\n",
      "Nome: ONE NUTRITION\n",
      "Sabor: Sabor Chocolate 45 g\n",
      "URL: https://www.puravida.com.br/one-nutrition-sache-chocolate-70224\n",
      "Nome: VEGAN PROTEIN\n",
      "Sabor: BLEND DE PROTEÍNAS VEGETAIS SABOR VANILLA 35 g\n",
      "URL: https://www.puravida.com.br/vegan-protein-vanilla-sache-70355\n",
      "Nome: VEGAN PROTEIN\n",
      "Sabor: BLEND DE PROTEÍNAS VEGETAIS SABOR NEUTRO 28 g\n",
      "URL: https://www.puravida.com.br/vegan-protein-neutro-sache-70354\n",
      "Nome: PURAJUICE PROTEIN\n",
      "Sabor: SABOR LIMÃO E YUZU 60 g\n",
      "URL: https://www.puravida.com.br/purajuice-limao-e-yuzu-pouch-70383\n",
      "Nome: PURAJUICE PROTEIN\n",
      "Sabor: SABOR ABACAXI COM HORTELÃ 60 g\n",
      "URL: https://www.puravida.com.br/purajuice-abacaxi-com-hortela-pouch-70384\n",
      "Nome: NATURAL PROTEIN SOUP\n",
      "Sabor: VEGANO, LEGUMES DA HORTA, ALTO TEOR DE PROTEÍNA 35 g\n",
      "URL: https://www.puravida.com.br/natural-protein-soup-sopa-de-legumes-vegana-70225\n",
      "Nome: NATURAL PROTEIN SOUP\n",
      "Sabor: VEGANO, ERVILHA DEFUMADA, ALTO TEOR DE PROTEÍNA 35 g\n",
      "URL: https://www.puravida.com.br/natural-protein-soup-sopa-de-ervilha-vegana-70145\n"
     ]
    }
   ],
   "source": [
    "produtos = soup.find_all('p', class_='product-name')\n",
    "descricoes = soup.find_all('div', class_='product-description')\n",
    "links = soup.find_all('a', class_='spot-product-info mb-auto px-3 pt-3 px-md-4 pt-md-4')\n",
    "\n",
    "for produto, desc, link in zip(produtos, descricoes, links): #zip combina as listas, strip remove os espaços em branco(inicio e fim)\n",
    "    print(\"Nome:\", produto.text.strip())\n",
    "    sabor_div = desc.find('div', style = \"text-align:center\")\n",
    "    sabor = sabor_div.text.strip().split('\\n')[0]  #pega só o primeiro elemento\n",
    "    print(\"Sabor:\", sabor)\n",
    "    print(\"URL:\", \"https://www.puravida.com.br\" + link['href'])\n"
   ]
  },
  {
   "cell_type": "markdown",
   "metadata": {},
   "source": [
    "POSSO USAR A ABORDAGEM DE DEIXAR TODOS ESSES LINKS EM UM CSV PARA UTILIZAR NO SELENIUM E USAR MAIS INFOS"
   ]
  },
  {
   "cell_type": "code",
   "execution_count": 33,
   "metadata": {},
   "outputs": [],
   "source": [
    "produtos = soup.find_all('p', class_='product-name')\n",
    "descricoes = soup.find_all('div', class_='product-description my-2 my-md-3')\n",
    "links = soup.find_all('a', class_='spot-product-info mb-auto px-3 pt-3 px-md-4 pt-md-4')\n",
    "\n",
    "\n",
    "nomes_produtos = []\n",
    "links_produtos = []\n",
    "sabor_produtos = []\n",
    "\n",
    "for produto, desc, link in zip(produtos, descricoes, links): #zip combina as listas, strip remove os espaços em branco(inicio e fim)\n",
    "    nomes_produtos.append(produto.text.strip())\n",
    "    links_produtos.append(\"https://www.puravida.com.br\" + link['href'])\n",
    "    sabor_div = desc.find('div', style = \"text-align:center\")\n",
    "    sabor = sabor_div.text.strip().split('\\n')[0]  #pega só o primeiro elemento\n",
    "    sabor_produtos.append(sabor)"
   ]
  },
  {
   "cell_type": "code",
   "execution_count": 34,
   "metadata": {},
   "outputs": [
    {
     "name": "stdout",
     "output_type": "stream",
     "text": [
      "['SABOR NEUTRO 450 g', 'SABOR BERRIES SILVESTRES 450 g', 'SABOR ABACAXI COM HORTELÃ 450 g', 'NEUTRO 23 g', 'BERRIES SILVESTRES 40 g.', 'SABOR ABACAXI COM HORTELÃ 40 g.', 'Sabor Chocolate Belga 450 g', 'Sabor vanilla 450 g', 'Sabor Neutro 450 g', 'Sabor Framboesa 450 g', 'WHEY 100% ISOLADO DARK CHOCOLATE 30 g', 'Sabor Chocolate Belga 30 g', 'SABOR VANILLA DO TAHITI 30 g', 'Sabor Framboesa 30 g', 'WHEY 100% ISOLADO VANILLA 30 g', 'WHEY 100% ISOLADO NEUTRO 26 g', 'WHEY 100% ISOLADO DARK CHOCOLATE 450 g', 'WHEY 100% ISOLADO VANILLA 450 g', 'WHEY 100% ISOLADO NEUTRO 450 g', 'Sabor Açaí com Banana 450 g', 'BLEND DE PROTEÍNAS VEGETAIS SABOR VANILLA 450 g', 'Sabor Chocolate 450 g', 'BLEND DE PROTEÍNAS VEGETAIS SABOR NEUTRO 450 g', 'Sabor Açaí com Banana 45 g', 'Sabor Chocolate 45 g', 'BLEND DE PROTEÍNAS VEGETAIS SABOR VANILLA 35 g', 'BLEND DE PROTEÍNAS VEGETAIS SABOR NEUTRO 28 g', 'SABOR LIMÃO E YUZU 60 g', 'SABOR ABACAXI COM HORTELÃ 60 g', 'VEGANO, LEGUMES DA HORTA, ALTO TEOR DE PROTEÍNA 35 g', 'VEGANO, ERVILHA DEFUMADA, ALTO TEOR DE PROTEÍNA 35 g']\n"
     ]
    }
   ],
   "source": [
    "print(sabor_produtos)"
   ]
  },
  {
   "cell_type": "code",
   "execution_count": 35,
   "metadata": {},
   "outputs": [],
   "source": [
    "import pandas as pd\n",
    "\n",
    "df = pd.DataFrame({\n",
    "      'Produto' : nomes_produtos,\n",
    "      'Descrição': sabor_produtos,\n",
    "      'Link' : links_produtos\n",
    "      })\n",
    "\n",
    "df.to_csv(\"produtos_beautifulsoup.csv\", index =  False,encoding = 'utf-8')"
   ]
  }
 ],
 "metadata": {
  "kernelspec": {
   "display_name": "Python 3",
   "language": "python",
   "name": "python3"
  },
  "language_info": {
   "codemirror_mode": {
    "name": "ipython",
    "version": 3
   },
   "file_extension": ".py",
   "mimetype": "text/x-python",
   "name": "python",
   "nbconvert_exporter": "python",
   "pygments_lexer": "ipython3",
   "version": "3.11.9"
  }
 },
 "nbformat": 4,
 "nbformat_minor": 2
}
