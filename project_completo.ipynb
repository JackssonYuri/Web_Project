{
 "cells": [
  {
   "cell_type": "markdown",
   "metadata": {},
   "source": [
    "Penso em pegar a primeira página com o BeautifulSoup e depois ir pegando mais infos, como textosm com o selenium"
   ]
  },
  {
   "cell_type": "code",
   "execution_count": 1,
   "metadata": {},
   "outputs": [],
   "source": [
    "from bs4 import BeautifulSoup\n",
    "import requests #para pegar o html da página"
   ]
  },
  {
   "cell_type": "code",
   "execution_count": 2,
   "metadata": {},
   "outputs": [],
   "source": [
    "url = 'https://www.essentialnutrition.com.br/produtos?indicacoes=264'\n",
    "\n",
    "headers = {'User-Agente': 'Mozilla/5.0 (Windows NT 10.0; Win64; x64) AppleWebKit/537.36 (KHTML, like Gecko) Chrome/133.0.0.0 Safari/537.36'} #identifica que tem alguém acessando o site\n",
    "\n",
    "page = requests.get(url, headers=headers)\n",
    "\n",
    "soup = BeautifulSoup(page.text, 'html.parser') #para poder fazer a manipulação com a biblioteca"
   ]
  },
  {
   "cell_type": "code",
   "execution_count": 3,
   "metadata": {},
   "outputs": [
    {
     "name": "stdout",
     "output_type": "stream",
     "text": [
      "Nome: Fiber Biome Laranja Lata 330g | 30 doses\n",
      "URL: https://www.essentialnutrition.com.br/fiber-biome-blend-fibras-laranja\n",
      "Descrição: Suplemento de fibras FODMAP Friendly | Sabor laranja\n",
      "Nome: Fiber Biome Neutro Lata 300g | 30 doses\n",
      "URL: https://www.essentialnutrition.com.br/fiber-biome-blend-fibras\n",
      "Descrição: Suplemento de fibras com certificação FODMAP Friendly | Sabor Neutro.\n",
      "Nome: Brainstorm Coffee Lata 186g | 20 doses\n",
      "URL: https://www.essentialnutrition.com.br/brainstorm-coffee-cafe\n",
      "Descrição: Café funcional | Sabor café e especiarias\n",
      "Nome: Brainstorm Coffee Caramel Latte Lata 274g | 20 doses\n",
      "URL: https://www.essentialnutrition.com.br/brainstorm-coffee-caramel-latte\n",
      "Descrição: Café funcional | Sabor caramelo\n",
      "Nome: Collagen Pept Protein 250ml\n",
      "URL: https://www.essentialnutrition.com.br/collagen-pept-protein-bebida-proteica\n",
      "Descrição: Bebida proteica de colágeno | Sabor chocolate belga\n",
      "Nome: Amino Greens Lata 261g | 30 doses\n",
      "URL: https://www.essentialnutrition.com.br/amino-greens-limao\n",
      "Descrição: Pool de aminoácidos essenciais + magnésio + vitamina B6 | Sabor suco verde e limão yuzu\n",
      "Nome: Mondz 50g\n",
      "URL: https://www.essentialnutrition.com.br/mondz-amendoas-com-chocolate\n",
      "Descrição: Amêndoas cobertas com dupla camada de Chocolift\n",
      "Nome: CoQ10 60 caps | 30 doses\n",
      "URL: https://www.essentialnutrition.com.br/coq10-em-capsula\n",
      "Descrição: Coenzima Q10 + Ômega-3 TG + Vitamina E\n",
      "Nome: Chocolift Be Powerful Barra 40g\n",
      "URL: https://www.essentialnutrition.com.br/chocolift-be-powerful-chocolate-whey-protein-nibs-de-cacau\n",
      "Descrição: Chocolate com whey protein e nibs de cacau\n",
      "Nome: Chocolift Be Powerful  Box 480g | 12 barras\n",
      "URL: https://www.essentialnutrition.com.br/chocolift-be-powerful-chocolate-whey-protein-nibs-de-cacau-caixa\n",
      "Descrição: Chocolate com whey protein e nibs de cacau\n",
      "Nome: Aminolift Box 375g | 30 sachês\n",
      "URL: https://www.essentialnutrition.com.br/aminolift-tangerina-box-aminoacidos-magnesio-vitamina-b6\n",
      "Descrição: Pool de aminoácidos essenciais + magnésio + vitamina B6 | Sabor tangerina\n",
      "Nome: Amino Greens Box 261g | 30 sachês\n",
      "URL: https://www.essentialnutrition.com.br/amino-greens-limao-box\n",
      "Descrição: Pool de aminoácidos essenciais + magnésio + vitamina B6 | Sabor suco verde e limão yuzu\n"
     ]
    }
   ],
   "source": [
    "produtos = soup.find_all('a', class_='product-item-link')\n",
    "descricoes = soup.find_all('span', class_='nameComplement')\n",
    "\n",
    "for produto, desc in zip(produtos, descricoes): #zip combina as listas, strip remove os espaços em branco(inicio e fim)\n",
    "    print(\"Nome:\", produto.text.strip())\n",
    "    print(\"URL:\", produto['href'])\n",
    "    print(\"Descrição:\", desc.text.strip())"
   ]
  },
  {
   "cell_type": "code",
   "execution_count": 4,
   "metadata": {},
   "outputs": [],
   "source": [
    "from selenium import webdriver\n",
    "from selenium.webdriver.chrome.service import Service\n",
    "from selenium.webdriver.common.by import By\n",
    "import time"
   ]
  },
  {
   "cell_type": "code",
   "execution_count": 77,
   "metadata": {},
   "outputs": [],
   "source": [
    "service = Service()\n",
    "\n",
    "options = webdriver.ChromeOptions()\n",
    "\n",
    "driver = webdriver.Chrome(service=service, options=options)\n",
    "\n",
    "url = 'https://www.essentialnutrition.com.br/produtos?indicacoes=264'\n",
    "driver.get(url)\n",
    "time.sleep(10)  \n",
    "try:\n",
    "    botao_cookies = driver.find_element(By.XPATH, '//button[contains(text(), \"Aceitar\")]')\n",
    "    botao_cookies.click()\n",
    "    time.sleep(1)  # Pequeno delay para garantir que a janela sumiu\n",
    "except:\n",
    "    print(\"Nenhum botão de cookies encontrado. Seguindo em frente...\")\n",
    "\n"
   ]
  },
  {
   "cell_type": "code",
   "execution_count": 87,
   "metadata": {},
   "outputs": [
    {
     "ename": "InvalidSessionIdException",
     "evalue": "Message: invalid session id: session deleted as the browser has closed the connection\nfrom disconnected: not connected to DevTools\n  (Session info: chrome=133.0.6943.142)\nStacktrace:\n\tGetHandleVerifier [0x00007FF6A6CFC6A5+28789]\n\t(No symbol) [0x00007FF6A6C65B20]\n\t(No symbol) [0x00007FF6A6AF8F9A]\n\t(No symbol) [0x00007FF6A6AE4D75]\n\t(No symbol) [0x00007FF6A6B09784]\n\t(No symbol) [0x00007FF6A6B7F0BF]\n\t(No symbol) [0x00007FF6A6B9F0D2]\n\t(No symbol) [0x00007FF6A6B77103]\n\t(No symbol) [0x00007FF6A6B3FFC0]\n\t(No symbol) [0x00007FF6A6B41273]\n\tGetHandleVerifier [0x00007FF6A7041AED+3458237]\n\tGetHandleVerifier [0x00007FF6A705829C+3550316]\n\tGetHandleVerifier [0x00007FF6A704DB9D+3507565]\n\tGetHandleVerifier [0x00007FF6A6DC2C6A+841274]\n\t(No symbol) [0x00007FF6A6C709EF]\n\t(No symbol) [0x00007FF6A6C6CB34]\n\t(No symbol) [0x00007FF6A6C6CCD6]\n\t(No symbol) [0x00007FF6A6C5C119]\n\tBaseThreadInitThunk [0x00007FFFF473E8D7+23]\n\tRtlUserThreadStart [0x00007FFFF501BF2C+44]\n",
     "output_type": "error",
     "traceback": [
      "\u001b[1;31m---------------------------------------------------------------------------\u001b[0m",
      "\u001b[1;31mInvalidSessionIdException\u001b[0m                 Traceback (most recent call last)",
      "Cell \u001b[1;32mIn[87], line 23\u001b[0m\n\u001b[0;32m     20\u001b[0m titulos[i]\u001b[38;5;241m.\u001b[39mclick()\n\u001b[0;32m     21\u001b[0m time\u001b[38;5;241m.\u001b[39msleep(\u001b[38;5;241m2\u001b[39m)\n\u001b[1;32m---> 23\u001b[0m descriptions \u001b[38;5;241m=\u001b[39m \u001b[43mdriver\u001b[49m\u001b[38;5;241;43m.\u001b[39;49m\u001b[43mfind_elements\u001b[49m\u001b[43m(\u001b[49m\u001b[43mBy\u001b[49m\u001b[38;5;241;43m.\u001b[39;49m\u001b[43mCLASS_NAME\u001b[49m\u001b[43m,\u001b[49m\u001b[43m \u001b[49m\u001b[38;5;124;43m'\u001b[39;49m\u001b[38;5;124;43mprod-subtitulo\u001b[39;49m\u001b[38;5;124;43m'\u001b[39;49m\u001b[43m)\u001b[49m\n\u001b[0;32m     24\u001b[0m descricao_textos \u001b[38;5;241m=\u001b[39m [desc\u001b[38;5;241m.\u001b[39mtext \u001b[38;5;28;01mfor\u001b[39;00m desc \u001b[38;5;129;01min\u001b[39;00m descriptions]\n\u001b[0;32m     25\u001b[0m descricao_list\u001b[38;5;241m.\u001b[39mappend(\u001b[38;5;124m\"\u001b[39m\u001b[38;5;124m \u001b[39m\u001b[38;5;124m\"\u001b[39m\u001b[38;5;241m.\u001b[39mjoin(descricao_textos))\n",
      "File \u001b[1;32m~\\AppData\\Local\\Packages\\PythonSoftwareFoundation.Python.3.11_qbz5n2kfra8p0\\LocalCache\\local-packages\\Python311\\site-packages\\selenium\\webdriver\\remote\\webdriver.py:936\u001b[0m, in \u001b[0;36mWebDriver.find_elements\u001b[1;34m(self, by, value)\u001b[0m\n\u001b[0;32m    932\u001b[0m     \u001b[38;5;28;01mreturn\u001b[39;00m \u001b[38;5;28mself\u001b[39m\u001b[38;5;241m.\u001b[39mexecute_script(find_element_js, by\u001b[38;5;241m.\u001b[39mto_dict())\n\u001b[0;32m    934\u001b[0m \u001b[38;5;66;03m# Return empty list if driver returns null\u001b[39;00m\n\u001b[0;32m    935\u001b[0m \u001b[38;5;66;03m# See https://github.com/SeleniumHQ/selenium/issues/4555\u001b[39;00m\n\u001b[1;32m--> 936\u001b[0m \u001b[38;5;28;01mreturn\u001b[39;00m \u001b[38;5;28;43mself\u001b[39;49m\u001b[38;5;241;43m.\u001b[39;49m\u001b[43mexecute\u001b[49m\u001b[43m(\u001b[49m\u001b[43mCommand\u001b[49m\u001b[38;5;241;43m.\u001b[39;49m\u001b[43mFIND_ELEMENTS\u001b[49m\u001b[43m,\u001b[49m\u001b[43m \u001b[49m\u001b[43m{\u001b[49m\u001b[38;5;124;43m\"\u001b[39;49m\u001b[38;5;124;43musing\u001b[39;49m\u001b[38;5;124;43m\"\u001b[39;49m\u001b[43m:\u001b[49m\u001b[43m \u001b[49m\u001b[43mby\u001b[49m\u001b[43m,\u001b[49m\u001b[43m \u001b[49m\u001b[38;5;124;43m\"\u001b[39;49m\u001b[38;5;124;43mvalue\u001b[39;49m\u001b[38;5;124;43m\"\u001b[39;49m\u001b[43m:\u001b[49m\u001b[43m \u001b[49m\u001b[43mvalue\u001b[49m\u001b[43m}\u001b[49m\u001b[43m)\u001b[49m[\u001b[38;5;124m\"\u001b[39m\u001b[38;5;124mvalue\u001b[39m\u001b[38;5;124m\"\u001b[39m] \u001b[38;5;129;01mor\u001b[39;00m []\n",
      "File \u001b[1;32m~\\AppData\\Local\\Packages\\PythonSoftwareFoundation.Python.3.11_qbz5n2kfra8p0\\LocalCache\\local-packages\\Python311\\site-packages\\selenium\\webdriver\\remote\\webdriver.py:429\u001b[0m, in \u001b[0;36mWebDriver.execute\u001b[1;34m(self, driver_command, params)\u001b[0m\n\u001b[0;32m    427\u001b[0m response \u001b[38;5;241m=\u001b[39m \u001b[38;5;28mself\u001b[39m\u001b[38;5;241m.\u001b[39mcommand_executor\u001b[38;5;241m.\u001b[39mexecute(driver_command, params)\n\u001b[0;32m    428\u001b[0m \u001b[38;5;28;01mif\u001b[39;00m response:\n\u001b[1;32m--> 429\u001b[0m     \u001b[38;5;28;43mself\u001b[39;49m\u001b[38;5;241;43m.\u001b[39;49m\u001b[43merror_handler\u001b[49m\u001b[38;5;241;43m.\u001b[39;49m\u001b[43mcheck_response\u001b[49m\u001b[43m(\u001b[49m\u001b[43mresponse\u001b[49m\u001b[43m)\u001b[49m\n\u001b[0;32m    430\u001b[0m     response[\u001b[38;5;124m\"\u001b[39m\u001b[38;5;124mvalue\u001b[39m\u001b[38;5;124m\"\u001b[39m] \u001b[38;5;241m=\u001b[39m \u001b[38;5;28mself\u001b[39m\u001b[38;5;241m.\u001b[39m_unwrap_value(response\u001b[38;5;241m.\u001b[39mget(\u001b[38;5;124m\"\u001b[39m\u001b[38;5;124mvalue\u001b[39m\u001b[38;5;124m\"\u001b[39m, \u001b[38;5;28;01mNone\u001b[39;00m))\n\u001b[0;32m    431\u001b[0m     \u001b[38;5;28;01mreturn\u001b[39;00m response\n",
      "File \u001b[1;32m~\\AppData\\Local\\Packages\\PythonSoftwareFoundation.Python.3.11_qbz5n2kfra8p0\\LocalCache\\local-packages\\Python311\\site-packages\\selenium\\webdriver\\remote\\errorhandler.py:232\u001b[0m, in \u001b[0;36mErrorHandler.check_response\u001b[1;34m(self, response)\u001b[0m\n\u001b[0;32m    230\u001b[0m         alert_text \u001b[38;5;241m=\u001b[39m value[\u001b[38;5;124m\"\u001b[39m\u001b[38;5;124malert\u001b[39m\u001b[38;5;124m\"\u001b[39m]\u001b[38;5;241m.\u001b[39mget(\u001b[38;5;124m\"\u001b[39m\u001b[38;5;124mtext\u001b[39m\u001b[38;5;124m\"\u001b[39m)\n\u001b[0;32m    231\u001b[0m     \u001b[38;5;28;01mraise\u001b[39;00m exception_class(message, screen, stacktrace, alert_text)  \u001b[38;5;66;03m# type: ignore[call-arg]  # mypy is not smart enough here\u001b[39;00m\n\u001b[1;32m--> 232\u001b[0m \u001b[38;5;28;01mraise\u001b[39;00m exception_class(message, screen, stacktrace)\n",
      "\u001b[1;31mInvalidSessionIdException\u001b[0m: Message: invalid session id: session deleted as the browser has closed the connection\nfrom disconnected: not connected to DevTools\n  (Session info: chrome=133.0.6943.142)\nStacktrace:\n\tGetHandleVerifier [0x00007FF6A6CFC6A5+28789]\n\t(No symbol) [0x00007FF6A6C65B20]\n\t(No symbol) [0x00007FF6A6AF8F9A]\n\t(No symbol) [0x00007FF6A6AE4D75]\n\t(No symbol) [0x00007FF6A6B09784]\n\t(No symbol) [0x00007FF6A6B7F0BF]\n\t(No symbol) [0x00007FF6A6B9F0D2]\n\t(No symbol) [0x00007FF6A6B77103]\n\t(No symbol) [0x00007FF6A6B3FFC0]\n\t(No symbol) [0x00007FF6A6B41273]\n\tGetHandleVerifier [0x00007FF6A7041AED+3458237]\n\tGetHandleVerifier [0x00007FF6A705829C+3550316]\n\tGetHandleVerifier [0x00007FF6A704DB9D+3507565]\n\tGetHandleVerifier [0x00007FF6A6DC2C6A+841274]\n\t(No symbol) [0x00007FF6A6C709EF]\n\t(No symbol) [0x00007FF6A6C6CB34]\n\t(No symbol) [0x00007FF6A6C6CCD6]\n\t(No symbol) [0x00007FF6A6C5C119]\n\tBaseThreadInitThunk [0x00007FFFF473E8D7+23]\n\tRtlUserThreadStart [0x00007FFFF501BF2C+44]\n"
     ]
    }
   ],
   "source": [
    "from selenium.webdriver.common.by import By\n",
    "from selenium.webdriver.common.action_chains import ActionChains\n",
    "import time\n",
    "\n",
    "title_list = []\n",
    "descricao_list = []\n",
    "\n",
    "titulos = driver.find_elements(By.CLASS_NAME, 'product-item-link')\n",
    "\n",
    "for i in range(6):\n",
    "    # Rola a cada 3 produtos\n",
    "    \n",
    "    if i % 3 == 0 and i != 0:\n",
    "        driver.execute_script(\"window.scrollBy(0, 500);\")  # Ajuste o valor se necessário\n",
    "        time.sleep(1)  # Dá um tempo para os elementos carregarem\n",
    "    titulos = driver.find_elements(By.CLASS_NAME, 'product-item-link')\n",
    "    titulo_produto = titulos[i].text\n",
    "    title_list.append(titulo_produto)\n",
    "\n",
    "    titulos[i].click()\n",
    "    time.sleep(2)\n",
    "\n",
    "    descriptions = driver.find_elements(By.CLASS_NAME, 'prod-subtitulo')\n",
    "    descricao_textos = [desc.text for desc in descriptions]\n",
    "    descricao_list.append(\" \".join(descricao_textos))\n",
    "\n",
    "    driver.back()\n",
    "    time.sleep(2)\n"
   ]
  },
  {
   "cell_type": "code",
   "execution_count": 86,
   "metadata": {},
   "outputs": [
    {
     "data": {
      "text/html": [
       "<div>\n",
       "<style scoped>\n",
       "    .dataframe tbody tr th:only-of-type {\n",
       "        vertical-align: middle;\n",
       "    }\n",
       "\n",
       "    .dataframe tbody tr th {\n",
       "        vertical-align: top;\n",
       "    }\n",
       "\n",
       "    .dataframe thead th {\n",
       "        text-align: right;\n",
       "    }\n",
       "</style>\n",
       "<table border=\"1\" class=\"dataframe\">\n",
       "  <thead>\n",
       "    <tr style=\"text-align: right;\">\n",
       "      <th></th>\n",
       "      <th>title</th>\n",
       "      <th>descricao</th>\n",
       "    </tr>\n",
       "  </thead>\n",
       "  <tbody>\n",
       "  </tbody>\n",
       "</table>\n",
       "</div>"
      ],
      "text/plain": [
       "Empty DataFrame\n",
       "Columns: [title, descricao]\n",
       "Index: []"
      ]
     },
     "execution_count": 86,
     "metadata": {},
     "output_type": "execute_result"
    }
   ],
   "source": [
    "import pandas as pd \n",
    "DF = {'title': title_list,\n",
    "      'descricao': descricao_list}\n",
    "\n",
    "pd.DataFrame(DF)"
   ]
  }
 ],
 "metadata": {
  "kernelspec": {
   "display_name": "Python 3",
   "language": "python",
   "name": "python3"
  },
  "language_info": {
   "codemirror_mode": {
    "name": "ipython",
    "version": 3
   },
   "file_extension": ".py",
   "mimetype": "text/x-python",
   "name": "python",
   "nbconvert_exporter": "python",
   "pygments_lexer": "ipython3",
   "version": "3.11.9"
  }
 },
 "nbformat": 4,
 "nbformat_minor": 2
}
