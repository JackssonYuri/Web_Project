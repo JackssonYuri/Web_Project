{
 "cells": [
  {
   "cell_type": "markdown",
   "metadata": {},
   "source": [
    "WEB SCRAPING COM SELENIUM"
   ]
  },
  {
   "cell_type": "code",
   "execution_count": null,
   "metadata": {},
   "outputs": [],
   "source": [
    "pip install selenium"
   ]
  },
  {
   "cell_type": "markdown",
   "metadata": {},
   "source": [
    "BIBLIOTECAS"
   ]
  },
  {
   "cell_type": "code",
   "execution_count": 33,
   "metadata": {},
   "outputs": [],
   "source": [
    "import pandas as pd"
   ]
  },
  {
   "cell_type": "code",
   "execution_count": 34,
   "metadata": {},
   "outputs": [],
   "source": [
    "from selenium import webdriver\n",
    "from selenium.webdriver.chrome.service import Service\n",
    "from selenium.webdriver.common.by import By\n",
    "import time"
   ]
  },
  {
   "cell_type": "code",
   "execution_count": 35,
   "metadata": {},
   "outputs": [],
   "source": [
    "service = Service()\n",
    "\n",
    "options = webdriver.ChromeOptions()\n",
    "\n",
    "driver = webdriver.Chrome(service=service, options=options)\n"
   ]
  },
  {
   "cell_type": "code",
   "execution_count": 36,
   "metadata": {},
   "outputs": [],
   "source": [
    "url = 'https://www.puravida.com.br/proteinas'\n",
    "\n",
    "driver.get(url)"
   ]
  },
  {
   "cell_type": "code",
   "execution_count": 37,
   "metadata": {},
   "outputs": [],
   "source": [
    "url = 'https://www.puravida.com.br/collagen-protein-neutro-70402'\n",
    "\n",
    "driver.get(url)"
   ]
  },
  {
   "cell_type": "markdown",
   "metadata": {},
   "source": [
    "SABOR"
   ]
  },
  {
   "cell_type": "code",
   "execution_count": 38,
   "metadata": {},
   "outputs": [
    {
     "name": "stdout",
     "output_type": "stream",
     "text": [
      "NEUTRO\n"
     ]
    }
   ],
   "source": [
    "sabor = driver.find_element(By.XPATH, \"//label[contains(@class, 'btn radio-label checked')]\").text\n",
    "print(sabor)\n"
   ]
  },
  {
   "cell_type": "markdown",
   "metadata": {},
   "source": [
    "NOME DE PRODUTO"
   ]
  },
  {
   "cell_type": "code",
   "execution_count": 39,
   "metadata": {},
   "outputs": [],
   "source": [
    "driver.back()"
   ]
  },
  {
   "cell_type": "code",
   "execution_count": 40,
   "metadata": {},
   "outputs": [
    {
     "name": "stdout",
     "output_type": "stream",
     "text": [
      "COLLAGEN PROTEIN\n",
      "COLLAGEN PROTEIN BERRIES 450G\n",
      "COLLAGEN PROTEIN\n",
      "COLLAGEN PROTEIN\n",
      "COLLAGEN PROTEIN\n",
      "COLLAGEN PROTEIN\n",
      "WHEY PROTEIN GRASSFED\n",
      "WHEY PROTEIN GRASSFED VANILLA\n",
      "WHEY PROTEIN GRASSFED NEUTRO\n",
      "WHEY PROTEIN GRASSFED FRAMBOESA\n",
      "WHEY PROTEIN ISOLADO\n",
      "WHEY PROTEIN GRASSFED SACHE\n",
      "WHEY PROTEIN GRASSFED\n",
      "WHEY PROTEIN GRASSFED SACHE\n",
      "WHEY PROTEIN ISOLADO\n",
      "WHEY PROTEIN ISOLADO\n",
      "WHEY PROTEIN ISOLADO\n",
      "WHEY PROTEIN ISOLADO\n",
      "WHEY PROTEIN ISOLADO\n",
      "ONE NUTRITION\n",
      "VEGAN PROTEIN\n",
      "ONE NUTRITION\n",
      "VEGAN PROTEIN\n",
      "ONE NUTRITION SACHE\n",
      "ONE NUTRITION\n",
      "VEGAN PROTEIN\n",
      "VEGAN PROTEIN\n",
      "PURAJUICE PROTEIN\n",
      "PURAJUICE PROTEIN\n",
      "NATURAL PROTEIN SOUP\n",
      "NATURAL PROTEIN SOUP\n"
     ]
    }
   ],
   "source": [
    "text = driver.find_elements(By.CLASS_NAME, 'product-name')\n",
    "for textos in text:\n",
    "    print(textos.text)"
   ]
  },
  {
   "cell_type": "code",
   "execution_count": 41,
   "metadata": {},
   "outputs": [
    {
     "data": {
      "text/plain": [
       "['alemã Verisol®, comprovada cientificamente como o melhor colágeno do mundo para a pele. É uma fonte de proteína de excepcional biodisponibilidade. Sua digestão é simples e fácil, e os aminoácidos são normalmente assimilados em poucos minutos, sem demandar esforço digestivo. Os peptídeos de colágeno são uma boa alternativa para quem tem dificuldades em digerir e assimilar outros tipos de proteínas. Especialmente desenvolvido com biotina, vitamina que auxilia no metabolismo de proteínas, carboidratos e gorduras, contribui para a manutenção do cabelo, da pele e ajuda na preservação das mucosas.',\n",
       " 'alemã Verisol®, comprovada cientificamente como o melhor colágeno do mundo para a pele. É uma fonte de proteína de excepcional biodisponibilidade. Sua digestão é simples e fácil, e os aminoácidos são normalmente assimilados em poucos minutos, sem demandar esforço digestivo. Os peptídeos de colágeno são uma boa alternativa para quem tem dificuldades em digerir e assimilar outros tipos de proteínas. Especialmente desenvolvido com biotina, vitamina que auxilia no metabolismo de proteínas, carboidratos e gorduras, contribui para a manutenção do cabelo, da pele e ajuda na preservação das mucosas.',\n",
       " 'alemã Verisol®, comprovada cientificamente como o melhor colágeno do mundo para a pele. É uma fonte de proteína de excepcional biodisponibilidade. Sua digestão é simples e fácil, e os aminoácidos são normalmente assimilados em poucos minutos, sem demandar esforço digestivo. Os peptídeos de colágeno são uma boa alternativa para quem tem dificuldades em digerir e assimilar outros tipos de proteínas. Especialmente desenvolvido com biotina, vitamina que auxilia no metabolismo de proteínas, carboidratos e gorduras, contribui para a manutenção do cabelo e da pele e ajuda na preservação das mucosas.']"
      ]
     },
     "execution_count": 41,
     "metadata": {},
     "output_type": "execute_result"
    }
   ],
   "source": [
    "titulos = driver.find_elements(By.CLASS_NAME, 'product-name')[0:32:1]\n",
    "\n",
    "title_list = []\n",
    "descricao_list = []\n",
    "sabor_list = []\n",
    "for i in range(3):\n",
    "    titulos = driver.find_elements(By.CLASS_NAME, 'product-name')\n",
    "    \n",
    "    titulo_produto = titulos[i].text  \n",
    "    title_list.append(titulo_produto)\n",
    "\n",
    "    titulos[i].click()\n",
    "    time.sleep(2)  \n",
    "\n",
    "    sabor = driver.find_element(By.XPATH, \"//label[contains(@class, 'btn radio-label checked')]\").text\n",
    "\n",
    "    sabor_list.append(sabor)\n",
    "    #teste pro primeiro texto\n",
    "    descriptions = driver.find_elements(By.CLASS_NAME, 'desk-break')[4:18]\n",
    "\n",
    "    # Extrai o texto de cada elemento e adiciona à lista\n",
    "    descricao_textos = [desc.text for desc in descriptions]\n",
    "\n",
    "    descricao_list.append(\" \".join(descricao_textos))\n",
    "\n",
    "    driver.back()\n",
    "    time.sleep(2)  \n",
    "\n",
    "\n",
    "driver.quit()\n",
    "\n",
    "descricao_list"
   ]
  },
  {
   "cell_type": "code",
   "execution_count": 42,
   "metadata": {},
   "outputs": [
    {
     "data": {
      "text/html": [
       "<div>\n",
       "<style scoped>\n",
       "    .dataframe tbody tr th:only-of-type {\n",
       "        vertical-align: middle;\n",
       "    }\n",
       "\n",
       "    .dataframe tbody tr th {\n",
       "        vertical-align: top;\n",
       "    }\n",
       "\n",
       "    .dataframe thead th {\n",
       "        text-align: right;\n",
       "    }\n",
       "</style>\n",
       "<table border=\"1\" class=\"dataframe\">\n",
       "  <thead>\n",
       "    <tr style=\"text-align: right;\">\n",
       "      <th></th>\n",
       "      <th>title</th>\n",
       "      <th>descricao</th>\n",
       "      <th>sabor</th>\n",
       "    </tr>\n",
       "  </thead>\n",
       "  <tbody>\n",
       "    <tr>\n",
       "      <th>0</th>\n",
       "      <td>COLLAGEN PROTEIN</td>\n",
       "      <td>alemã Verisol®, comprovada cientificamente com...</td>\n",
       "      <td>NEUTRO</td>\n",
       "    </tr>\n",
       "    <tr>\n",
       "      <th>1</th>\n",
       "      <td>COLLAGEN PROTEIN BERRIES 450G</td>\n",
       "      <td>alemã Verisol®, comprovada cientificamente com...</td>\n",
       "      <td>BERRIES SILVESTRES</td>\n",
       "    </tr>\n",
       "    <tr>\n",
       "      <th>2</th>\n",
       "      <td>COLLAGEN PROTEIN</td>\n",
       "      <td>alemã Verisol®, comprovada cientificamente com...</td>\n",
       "      <td>ABACAXI COM HORTELÃ</td>\n",
       "    </tr>\n",
       "  </tbody>\n",
       "</table>\n",
       "</div>"
      ],
      "text/plain": [
       "                           title  \\\n",
       "0               COLLAGEN PROTEIN   \n",
       "1  COLLAGEN PROTEIN BERRIES 450G   \n",
       "2               COLLAGEN PROTEIN   \n",
       "\n",
       "                                           descricao                sabor  \n",
       "0  alemã Verisol®, comprovada cientificamente com...               NEUTRO  \n",
       "1  alemã Verisol®, comprovada cientificamente com...   BERRIES SILVESTRES  \n",
       "2  alemã Verisol®, comprovada cientificamente com...  ABACAXI COM HORTELÃ  "
      ]
     },
     "execution_count": 42,
     "metadata": {},
     "output_type": "execute_result"
    }
   ],
   "source": [
    "DF = {'title': title_list,\n",
    "      'descricao': descricao_list,\n",
    "      'sabor': sabor_list}\n",
    "\n",
    "pd.DataFrame(DF)"
   ]
  },
  {
   "cell_type": "markdown",
   "metadata": {},
   "source": [
    "EXPORT PARA CSV"
   ]
  },
  {
   "cell_type": "code",
   "execution_count": 43,
   "metadata": {},
   "outputs": [
    {
     "name": "stdout",
     "output_type": "stream",
     "text": [
      "Arquivo 'produtos_selenium.csv' gerado com sucesso!\n"
     ]
    }
   ],
   "source": [
    "DF = {'title': title_list, \n",
    "      'descricao': descricao_list,\n",
    "      'sabor': sabor_list}\n",
    "\n",
    "pd.DataFrame(DF).to_csv(\"produtos_selenium.csv\", index=False, encoding=\"utf-8\")\n",
    "\n",
    "print(\"Arquivo 'produtos_selenium.csv' gerado com sucesso!\")"
   ]
  },
  {
   "cell_type": "markdown",
   "metadata": {},
   "source": [
    "EXPORT PARA PDF"
   ]
  },
  {
   "cell_type": "code",
   "execution_count": 44,
   "metadata": {},
   "outputs": [
    {
     "name": "stdout",
     "output_type": "stream",
     "text": [
      "Requirement already satisfied: reportlab in c:\\users\\jacky\\appdata\\local\\packages\\pythonsoftwarefoundation.python.3.11_qbz5n2kfra8p0\\localcache\\local-packages\\python311\\site-packages (4.3.1)\n",
      "Requirement already satisfied: pillow>=9.0.0 in c:\\users\\jacky\\appdata\\local\\packages\\pythonsoftwarefoundation.python.3.11_qbz5n2kfra8p0\\localcache\\local-packages\\python311\\site-packages (from reportlab) (11.0.0)\n",
      "Requirement already satisfied: chardet in c:\\users\\jacky\\appdata\\local\\packages\\pythonsoftwarefoundation.python.3.11_qbz5n2kfra8p0\\localcache\\local-packages\\python311\\site-packages (from reportlab) (5.2.0)\n",
      "Note: you may need to restart the kernel to use updated packages.\n"
     ]
    },
    {
     "name": "stderr",
     "output_type": "stream",
     "text": [
      "\n",
      "[notice] A new release of pip is available: 24.3.1 -> 25.0.1\n",
      "[notice] To update, run: C:\\Users\\jacky\\AppData\\Local\\Microsoft\\WindowsApps\\PythonSoftwareFoundation.Python.3.11_qbz5n2kfra8p0\\python.exe -m pip install --upgrade pip\n"
     ]
    }
   ],
   "source": [
    "pip install reportlab\n"
   ]
  },
  {
   "cell_type": "code",
   "execution_count": 61,
   "metadata": {},
   "outputs": [
    {
     "name": "stdout",
     "output_type": "stream",
     "text": [
      "PDF 'produtos.pdf' gerado com sucesso!\n"
     ]
    }
   ],
   "source": [
    "from reportlab.lib.pagesizes import letter\n",
    "from reportlab.pdfgen import canvas\n",
    "import pandas as pd\n",
    "DF = pd.DataFrame({'title': title_list, 'descricao': descricao_list}) #pega de cada produto o nome e sua descrição\n",
    "\n",
    "pdf_filename = \"produtos.pdf\"\n",
    "\n",
    "# Criando o PDF\n",
    "c = canvas.Canvas(pdf_filename, pagesize=letter)\n",
    "width, height = letter\n",
    "\n",
    "# Adicionando um título\n",
    "c.setFont(\"Helvetica-Bold\", 16)\n",
    "c.drawString(100, height - 50, \"Lista de Produtos e suas descrições\")\n",
    "\n",
    "# Definições para escrita na página\n",
    "y_position = height - 100  \n",
    "\n",
    "for index, row in DF.iterrows():\n",
    "    title = row['title']\n",
    "    descricao = row['descricao']\n",
    "\n",
    "    c.setFont(\"Helvetica-Bold\", 12)\n",
    "    c.drawString(100, y_position, f\"Produto: {title}\")\n",
    "\n",
    "    c.setFont(\"Helvetica\", 10)\n",
    "    descricao_lines = descricao.split(\". \")  # Quebra a descrição em linhas menores\n",
    "    \n",
    "    for line in descricao_lines:\n",
    "        c.drawString(120, y_position - 20, line)\n",
    "        y_position -= 15  \n",
    "\n",
    "    y_position -= 20  \n",
    "\n",
    "    if y_position < 50:  # Nova página se faltar espaço\n",
    "        c.showPage()\n",
    "        c.setFont(\"Helvetica-Bold\", 16)\n",
    "        #c.drawString(100, height - 50, \"Lista de Produtos\")\n",
    "        y_position = height - 100\n",
    "\n",
    "c.save()  # Salva o PDF\n",
    "\n",
    "print(f\"PDF '{pdf_filename}' gerado com sucesso!\")"
   ]
  },
  {
   "cell_type": "code",
   "execution_count": 48,
   "metadata": {},
   "outputs": [
    {
     "name": "stdout",
     "output_type": "stream",
     "text": [
      "Processo concluído! CSV salvo.\n"
     ]
    },
    {
     "ename": "",
     "evalue": "",
     "output_type": "error",
     "traceback": [
      "\u001b[1;31mThe Kernel crashed while executing code in the current cell or a previous cell. \n",
      "\u001b[1;31mPlease review the code in the cell(s) to identify a possible cause of the failure. \n",
      "\u001b[1;31mClick <a href='https://aka.ms/vscodeJupyterKernelCrash'>here</a> for more info. \n",
      "\u001b[1;31mView Jupyter <a href='command:jupyter.viewOutput'>log</a> for further details."
     ]
    }
   ],
   "source": [
    "import time\n",
    "import pandas as pd\n",
    "from selenium import webdriver\n",
    "from selenium.webdriver.common.by import By\n",
    "from selenium.webdriver.support.ui import WebDriverWait\n",
    "from selenium.webdriver.support import expected_conditions as EC\n",
    "\n",
    "# Carregar o CSV\n",
    "df = pd.read_csv('produtos_beautifulsoup.csv')\n",
    "\n",
    "# Configurar WebDriver\n",
    "options = webdriver.ChromeOptions()\n",
    "# options.add_argument(\"--headless\") \n",
    "# options.add_argument(\"--disable-gpu\")\n",
    "# options.add_argument(\"--no-sandbox\")\n",
    "# options.add_argument(\"--disable-dev-shm-usage\")\n",
    "# options.add_argument(\"--remote-debugging-port=9222\")\n",
    "\n",
    "driver = webdriver.Chrome(options=options)\n",
    "\n",
    "# Inicializando listas para armazenar os dados\n",
    "title_list = []\n",
    "sabor_list = []\n",
    "descricao_list = []\n",
    "\n",
    "for _, row in df.iterrows():\n",
    "    link = row[\"Link\"]\n",
    "    driver.get(link)\n",
    "    time.sleep(2)\n",
    "\n",
    "    # Verificar títulos\n",
    "    try:\n",
    "        titulos = driver.find_elements(By.CLASS_NAME, 'new-titulo')\n",
    "        title_list.append(titulos[0].text if titulos else '')\n",
    "    except Exception as e:\n",
    "        title_list.append('')\n",
    "\n",
    "    # Verificar sabor\n",
    "    try:\n",
    "        sabor = driver.find_element(By.XPATH, \"//label[contains(@class, 'btn radio-label checked')]\").text\n",
    "        sabor_list.append(sabor)\n",
    "    except Exception as e:\n",
    "        sabor_list.append('')\n",
    "\n",
    "    # Verificar descrição\n",
    "    try:\n",
    "        descriptions = driver.find_elements(By.CLASS_NAME, 'desk-break')[4:18]\n",
    "        descricao_textos = [desc.text for desc in descriptions]\n",
    "        descricao_list.append(\" \".join(descricao_textos))\n",
    "    except Exception as e:\n",
    "        descricao_list.append('')\n",
    "\n",
    "driver.quit()\n",
    "\n",
    "# Criar DataFrame\n",
    "df_resultado = pd.DataFrame({\n",
    "    'Produto': title_list,\n",
    "    'Sabor': sabor_list,\n",
    "    'Descrição': descricao_list\n",
    "})\n",
    "\n",
    "# Salvar em CSV\n",
    "df_resultado.to_csv(\"produtos_processados.csv\", index=False, encoding=\"utf-8\")\n",
    "\n",
    "print(\"Processo concluído! CSV salvo.\")\n"
   ]
  }
 ],
 "metadata": {
  "kernelspec": {
   "display_name": "Python 3",
   "language": "python",
   "name": "python3"
  },
  "language_info": {
   "codemirror_mode": {
    "name": "ipython",
    "version": 3
   },
   "file_extension": ".py",
   "mimetype": "text/x-python",
   "name": "python",
   "nbconvert_exporter": "python",
   "pygments_lexer": "ipython3",
   "version": "3.11.9"
  }
 },
 "nbformat": 4,
 "nbformat_minor": 2
}
