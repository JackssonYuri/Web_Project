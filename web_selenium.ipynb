{
 "cells": [
  {
   "cell_type": "markdown",
   "metadata": {},
   "source": [
    "WEB SCRAPING COM SELENIUM"
   ]
  },
  {
   "cell_type": "code",
   "execution_count": null,
   "metadata": {},
   "outputs": [],
   "source": [
    "pip install selenium"
   ]
  },
  {
   "cell_type": "markdown",
   "metadata": {},
   "source": [
    "BIBLIOTECAS"
   ]
  },
  {
   "cell_type": "code",
   "execution_count": 5,
   "metadata": {},
   "outputs": [],
   "source": [
    "import pandas as pd"
   ]
  },
  {
   "cell_type": "code",
   "execution_count": 6,
   "metadata": {},
   "outputs": [],
   "source": [
    "from selenium import webdriver\n",
    "from selenium.webdriver.chrome.service import Service\n",
    "from selenium.webdriver.common.by import By\n",
    "import time"
   ]
  },
  {
   "cell_type": "code",
   "execution_count": 48,
   "metadata": {},
   "outputs": [],
   "source": [
    "service = Service()\n",
    "\n",
    "options = webdriver.ChromeOptions()\n",
    "\n",
    "driver = webdriver.Chrome(service=service, options=options)\n"
   ]
  },
  {
   "cell_type": "code",
   "execution_count": 49,
   "metadata": {},
   "outputs": [],
   "source": [
    "url = 'https://www.puravida.com.br/proteinas'\n",
    "\n",
    "driver.get(url)"
   ]
  },
  {
   "cell_type": "code",
   "execution_count": null,
   "metadata": {},
   "outputs": [],
   "source": [
    "driver.find_elements(By.TAG_NAME, 'div')[1000].text\n"
   ]
  },
  {
   "cell_type": "code",
   "execution_count": 14,
   "metadata": {},
   "outputs": [
    {
     "name": "stdout",
     "output_type": "stream",
     "text": [
      "\n",
      "\n",
      "\n",
      "\n",
      "\n",
      "\n",
      "\n",
      "\n",
      "\n",
      "\n",
      "\n",
      "\n",
      "\n",
      "\n"
     ]
    }
   ],
   "source": [
    "description = driver.find_elements(By.CLASS_NAME, 'justify-content-center')\n",
    "for descricao in description:\n",
    "    print(descricao.text)\n"
   ]
  },
  {
   "cell_type": "code",
   "execution_count": 15,
   "metadata": {},
   "outputs": [
    {
     "name": "stdout",
     "output_type": "stream",
     "text": [
      "\n",
      "\n",
      "\n",
      "\n"
     ]
    }
   ],
   "source": [
    "text = driver.find_elements(By.CLASS_NAME, 'desk-break')\n",
    "for textos in text:\n",
    "    print(textos.text)"
   ]
  },
  {
   "cell_type": "code",
   "execution_count": 106,
   "metadata": {},
   "outputs": [],
   "source": [
    "driver.back()"
   ]
  },
  {
   "cell_type": "code",
   "execution_count": null,
   "metadata": {},
   "outputs": [],
   "source": [
    "titulos = driver.find_elements(By.CLASS_NAME, 'product-name')[0:32:1]\n",
    "\n",
    "title_list = []\n",
    "descricao_list = []\n",
    "for i in range(31):\n",
    "    titulos = driver.find_elements(By.CLASS_NAME, 'product-name')\n",
    "    \n",
    "    titulo_produto = titulos[i].text  # Obtém o título específico\n",
    "    title_list.append(titulo_produto)\n",
    "\n",
    "    titulos[i].click()\n",
    "    time.sleep(2)  \n",
    "\n",
    "    #teste pro primeiro texto\n",
    "    descriptions = driver.find_elements(By.CLASS_NAME, 'desk-break')[4:18]\n",
    "\n",
    "    # Extrai o texto de cada elemento e adiciona à lista\n",
    "    descricao_textos = [desc.text for desc in descriptions]\n",
    "\n",
    "    descricao_list.append(\" \".join(descricao_textos))\n",
    "\n",
    "    driver.back()\n",
    "    time.sleep(2)  \n",
    "\n",
    "\n",
    "driver.quit()\n",
    "\n",
    "descricao_list"
   ]
  },
  {
   "cell_type": "code",
   "execution_count": 53,
   "metadata": {},
   "outputs": [
    {
     "data": {
      "text/html": [
       "<div>\n",
       "<style scoped>\n",
       "    .dataframe tbody tr th:only-of-type {\n",
       "        vertical-align: middle;\n",
       "    }\n",
       "\n",
       "    .dataframe tbody tr th {\n",
       "        vertical-align: top;\n",
       "    }\n",
       "\n",
       "    .dataframe thead th {\n",
       "        text-align: right;\n",
       "    }\n",
       "</style>\n",
       "<table border=\"1\" class=\"dataframe\">\n",
       "  <thead>\n",
       "    <tr style=\"text-align: right;\">\n",
       "      <th></th>\n",
       "      <th>title</th>\n",
       "      <th>descricao</th>\n",
       "    </tr>\n",
       "  </thead>\n",
       "  <tbody>\n",
       "    <tr>\n",
       "      <th>0</th>\n",
       "      <td>COLLAGEN PROTEIN</td>\n",
       "      <td>alemã Verisol®, comprovada cientificamente com...</td>\n",
       "    </tr>\n",
       "    <tr>\n",
       "      <th>1</th>\n",
       "      <td>COLLAGEN PROTEIN BERRIES 450G</td>\n",
       "      <td>alemã Verisol®, comprovada cientificamente com...</td>\n",
       "    </tr>\n",
       "    <tr>\n",
       "      <th>2</th>\n",
       "      <td>COLLAGEN PROTEIN</td>\n",
       "      <td>alemã Verisol®, comprovada cientificamente com...</td>\n",
       "    </tr>\n",
       "    <tr>\n",
       "      <th>3</th>\n",
       "      <td>COLLAGEN PROTEIN</td>\n",
       "      <td>alemã Verisol®, comprovada cientificamente com...</td>\n",
       "    </tr>\n",
       "    <tr>\n",
       "      <th>4</th>\n",
       "      <td>COLLAGEN PROTEIN</td>\n",
       "      <td>alemã Verisol®, comprovada cientificamente com...</td>\n",
       "    </tr>\n",
       "    <tr>\n",
       "      <th>5</th>\n",
       "      <td>WHEY PROTEIN GRASSFED</td>\n",
       "      <td>TEXTURA CREMOSA, SABOR INCRÍVEL A palavra prot...</td>\n",
       "    </tr>\n",
       "    <tr>\n",
       "      <th>6</th>\n",
       "      <td>WHEY PROTEIN GRASSFED VANILLA</td>\n",
       "      <td>TEXTURA CREMOSA, SABOR INCRÍVEL A palavra prot...</td>\n",
       "    </tr>\n",
       "    <tr>\n",
       "      <th>7</th>\n",
       "      <td>WHEY PROTEIN GRASSFED NEUTRO</td>\n",
       "      <td>TEXTURA CREMOSA, SABOR INCRÍVEL A palavra prot...</td>\n",
       "    </tr>\n",
       "    <tr>\n",
       "      <th>8</th>\n",
       "      <td>WHEY PROTEIN GRASSFED FRAMBOESA</td>\n",
       "      <td>TEXTURA CREMOSA, SABOR INCRÍVEL A palavra prot...</td>\n",
       "    </tr>\n",
       "    <tr>\n",
       "      <th>9</th>\n",
       "      <td>WHEY PROTEIN ISOLADO</td>\n",
       "      <td>Puravida. Todos os dias, fazemos a mesma pergu...</td>\n",
       "    </tr>\n",
       "    <tr>\n",
       "      <th>10</th>\n",
       "      <td>WHEY PROTEIN GRASSFED</td>\n",
       "      <td>TEXTURA CREMOSA, SABOR INCRÍVEL A palavra prot...</td>\n",
       "    </tr>\n",
       "    <tr>\n",
       "      <th>11</th>\n",
       "      <td>WHEY PROTEIN ISOLADO</td>\n",
       "      <td>proteína isolada do soro do leite (whey) é con...</td>\n",
       "    </tr>\n",
       "    <tr>\n",
       "      <th>12</th>\n",
       "      <td>WHEY PROTEIN ISOLADO</td>\n",
       "      <td>Puravida. Todos os dias, fazemos a mesma pergu...</td>\n",
       "    </tr>\n",
       "    <tr>\n",
       "      <th>13</th>\n",
       "      <td>WHEY PROTEIN ISOLADO</td>\n",
       "      <td>Puravida. Todos os dias, fazemos a mesma pergu...</td>\n",
       "    </tr>\n",
       "    <tr>\n",
       "      <th>14</th>\n",
       "      <td>WHEY PROTEIN ISOLADO</td>\n",
       "      <td>proteína isolada do soro do leite (whey) é con...</td>\n",
       "    </tr>\n",
       "    <tr>\n",
       "      <th>15</th>\n",
       "      <td>WHEY PROTEIN ISOLADO</td>\n",
       "      <td>Puravida. Todos os dias, fazemos a mesma pergu...</td>\n",
       "    </tr>\n",
       "    <tr>\n",
       "      <th>16</th>\n",
       "      <td>VEGAN PROTEIN</td>\n",
       "      <td>COM VITAMINAS E MINERAIS. Na busca por um blen...</td>\n",
       "    </tr>\n",
       "    <tr>\n",
       "      <th>17</th>\n",
       "      <td>ONE NUTRITION</td>\n",
       "      <td>20% da composição do nosso organismo. São “tij...</td>\n",
       "    </tr>\n",
       "    <tr>\n",
       "      <th>18</th>\n",
       "      <td>VEGAN PROTEIN</td>\n",
       "      <td>COM VITAMINAS E MINERAIS. Na busca por um blen...</td>\n",
       "    </tr>\n",
       "    <tr>\n",
       "      <th>19</th>\n",
       "      <td>PURAJUICE PROTEIN</td>\n",
       "      <td>a riqueza de um nutriente primordial:proteína....</td>\n",
       "    </tr>\n",
       "    <tr>\n",
       "      <th>20</th>\n",
       "      <td>PURAJUICE PROTEIN</td>\n",
       "      <td>a riqueza de um nutriente primordial: proteína...</td>\n",
       "    </tr>\n",
       "    <tr>\n",
       "      <th>21</th>\n",
       "      <td>NATURAL PROTEIN SOUP</td>\n",
       "      <td></td>\n",
       "    </tr>\n",
       "    <tr>\n",
       "      <th>22</th>\n",
       "      <td>NATURAL PROTEIN SOUP</td>\n",
       "      <td>E INSTANTÂNEA?</td>\n",
       "    </tr>\n",
       "    <tr>\n",
       "      <th>23</th>\n",
       "      <td>ONE NUTRITION</td>\n",
       "      <td>20% da composição do nosso organismo. São “tij...</td>\n",
       "    </tr>\n",
       "    <tr>\n",
       "      <th>24</th>\n",
       "      <td>WHEY PROTEIN GRASSFED SACHE</td>\n",
       "      <td>TEXTURA CREMOSA, SABOR INCRÍVEL A palavra prot...</td>\n",
       "    </tr>\n",
       "    <tr>\n",
       "      <th>25</th>\n",
       "      <td>WHEY PROTEIN GRASSFED SACHE</td>\n",
       "      <td>TEXTURA CREMOSA, SABOR INCRÍVEL A palavra prot...</td>\n",
       "    </tr>\n",
       "    <tr>\n",
       "      <th>26</th>\n",
       "      <td>ONE NUTRITION SACHE</td>\n",
       "      <td>20% da composição do nosso organismo. São “tij...</td>\n",
       "    </tr>\n",
       "    <tr>\n",
       "      <th>27</th>\n",
       "      <td>ONE NUTRITION</td>\n",
       "      <td>20% da composição do nosso organismo. São “tij...</td>\n",
       "    </tr>\n",
       "    <tr>\n",
       "      <th>28</th>\n",
       "      <td>VEGAN PROTEIN</td>\n",
       "      <td>COM VITAMINAS E MINERAIS. Na busca por um blen...</td>\n",
       "    </tr>\n",
       "    <tr>\n",
       "      <th>29</th>\n",
       "      <td>VEGAN PROTEIN</td>\n",
       "      <td>COM VITAMINAS E MINERAIS. Na busca por um blen...</td>\n",
       "    </tr>\n",
       "    <tr>\n",
       "      <th>30</th>\n",
       "      <td>COLLAGEN PROTEIN</td>\n",
       "      <td>alemã Verisol®, comprovada cientificamente com...</td>\n",
       "    </tr>\n",
       "  </tbody>\n",
       "</table>\n",
       "</div>"
      ],
      "text/plain": [
       "                              title  \\\n",
       "0                  COLLAGEN PROTEIN   \n",
       "1     COLLAGEN PROTEIN BERRIES 450G   \n",
       "2                  COLLAGEN PROTEIN   \n",
       "3                  COLLAGEN PROTEIN   \n",
       "4                  COLLAGEN PROTEIN   \n",
       "5             WHEY PROTEIN GRASSFED   \n",
       "6     WHEY PROTEIN GRASSFED VANILLA   \n",
       "7      WHEY PROTEIN GRASSFED NEUTRO   \n",
       "8   WHEY PROTEIN GRASSFED FRAMBOESA   \n",
       "9              WHEY PROTEIN ISOLADO   \n",
       "10            WHEY PROTEIN GRASSFED   \n",
       "11             WHEY PROTEIN ISOLADO   \n",
       "12             WHEY PROTEIN ISOLADO   \n",
       "13             WHEY PROTEIN ISOLADO   \n",
       "14             WHEY PROTEIN ISOLADO   \n",
       "15             WHEY PROTEIN ISOLADO   \n",
       "16                    VEGAN PROTEIN   \n",
       "17                    ONE NUTRITION   \n",
       "18                    VEGAN PROTEIN   \n",
       "19                PURAJUICE PROTEIN   \n",
       "20                PURAJUICE PROTEIN   \n",
       "21             NATURAL PROTEIN SOUP   \n",
       "22             NATURAL PROTEIN SOUP   \n",
       "23                    ONE NUTRITION   \n",
       "24      WHEY PROTEIN GRASSFED SACHE   \n",
       "25      WHEY PROTEIN GRASSFED SACHE   \n",
       "26              ONE NUTRITION SACHE   \n",
       "27                    ONE NUTRITION   \n",
       "28                    VEGAN PROTEIN   \n",
       "29                    VEGAN PROTEIN   \n",
       "30                 COLLAGEN PROTEIN   \n",
       "\n",
       "                                            descricao  \n",
       "0   alemã Verisol®, comprovada cientificamente com...  \n",
       "1   alemã Verisol®, comprovada cientificamente com...  \n",
       "2   alemã Verisol®, comprovada cientificamente com...  \n",
       "3   alemã Verisol®, comprovada cientificamente com...  \n",
       "4   alemã Verisol®, comprovada cientificamente com...  \n",
       "5   TEXTURA CREMOSA, SABOR INCRÍVEL A palavra prot...  \n",
       "6   TEXTURA CREMOSA, SABOR INCRÍVEL A palavra prot...  \n",
       "7   TEXTURA CREMOSA, SABOR INCRÍVEL A palavra prot...  \n",
       "8   TEXTURA CREMOSA, SABOR INCRÍVEL A palavra prot...  \n",
       "9   Puravida. Todos os dias, fazemos a mesma pergu...  \n",
       "10  TEXTURA CREMOSA, SABOR INCRÍVEL A palavra prot...  \n",
       "11  proteína isolada do soro do leite (whey) é con...  \n",
       "12  Puravida. Todos os dias, fazemos a mesma pergu...  \n",
       "13  Puravida. Todos os dias, fazemos a mesma pergu...  \n",
       "14  proteína isolada do soro do leite (whey) é con...  \n",
       "15  Puravida. Todos os dias, fazemos a mesma pergu...  \n",
       "16  COM VITAMINAS E MINERAIS. Na busca por um blen...  \n",
       "17  20% da composição do nosso organismo. São “tij...  \n",
       "18  COM VITAMINAS E MINERAIS. Na busca por um blen...  \n",
       "19  a riqueza de um nutriente primordial:proteína....  \n",
       "20  a riqueza de um nutriente primordial: proteína...  \n",
       "21                                                     \n",
       "22                                     E INSTANTÂNEA?  \n",
       "23  20% da composição do nosso organismo. São “tij...  \n",
       "24  TEXTURA CREMOSA, SABOR INCRÍVEL A palavra prot...  \n",
       "25  TEXTURA CREMOSA, SABOR INCRÍVEL A palavra prot...  \n",
       "26  20% da composição do nosso organismo. São “tij...  \n",
       "27  20% da composição do nosso organismo. São “tij...  \n",
       "28  COM VITAMINAS E MINERAIS. Na busca por um blen...  \n",
       "29  COM VITAMINAS E MINERAIS. Na busca por um blen...  \n",
       "30  alemã Verisol®, comprovada cientificamente com...  "
      ]
     },
     "execution_count": 53,
     "metadata": {},
     "output_type": "execute_result"
    }
   ],
   "source": [
    "DF = {'title': title_list,\n",
    "      'descricao': descricao_list}\n",
    "\n",
    "pd.DataFrame(DF)"
   ]
  },
  {
   "cell_type": "markdown",
   "metadata": {},
   "source": [
    "EXPORT PARA CSV"
   ]
  },
  {
   "cell_type": "code",
   "execution_count": 54,
   "metadata": {},
   "outputs": [
    {
     "name": "stdout",
     "output_type": "stream",
     "text": [
      "Arquivo 'produtos.csv' gerado com sucesso!\n"
     ]
    }
   ],
   "source": [
    "DF = {'title': title_list, 'descricao': descricao_list}\n",
    "\n",
    "# Convertendo para DataFrame e salvando como CSV\n",
    "pd.DataFrame(DF).to_csv(\"produtos.csv\", index=False, encoding=\"utf-8\")\n",
    "\n",
    "print(\"Arquivo 'produtos.csv' gerado com sucesso!\")"
   ]
  },
  {
   "cell_type": "markdown",
   "metadata": {},
   "source": [
    "EXPORT PARA PDF"
   ]
  },
  {
   "cell_type": "code",
   "execution_count": null,
   "metadata": {},
   "outputs": [],
   "source": [
    "pip install reportlab\n"
   ]
  },
  {
   "cell_type": "code",
   "execution_count": 61,
   "metadata": {},
   "outputs": [
    {
     "name": "stdout",
     "output_type": "stream",
     "text": [
      "PDF 'produtos.pdf' gerado com sucesso!\n"
     ]
    }
   ],
   "source": [
    "from reportlab.lib.pagesizes import letter\n",
    "from reportlab.pdfgen import canvas\n",
    "import pandas as pd\n",
    "DF = pd.DataFrame({'title': title_list, 'descricao': descricao_list}) #pega de cada produto o nome e sua descrição\n",
    "\n",
    "pdf_filename = \"produtos.pdf\"\n",
    "\n",
    "# Criando o PDF\n",
    "c = canvas.Canvas(pdf_filename, pagesize=letter)\n",
    "width, height = letter\n",
    "\n",
    "# Adicionando um título\n",
    "c.setFont(\"Helvetica-Bold\", 16)\n",
    "c.drawString(100, height - 50, \"Lista de Produtos e suas descrições\")\n",
    "\n",
    "# Definições para escrita na página\n",
    "y_position = height - 100  \n",
    "\n",
    "for index, row in DF.iterrows():\n",
    "    title = row['title']\n",
    "    descricao = row['descricao']\n",
    "\n",
    "    c.setFont(\"Helvetica-Bold\", 12)\n",
    "    c.drawString(100, y_position, f\"Produto: {title}\")\n",
    "\n",
    "    c.setFont(\"Helvetica\", 10)\n",
    "    descricao_lines = descricao.split(\". \")  # Quebra a descrição em linhas menores\n",
    "    \n",
    "    for line in descricao_lines:\n",
    "        c.drawString(120, y_position - 20, line)\n",
    "        y_position -= 15  \n",
    "\n",
    "    y_position -= 20  \n",
    "\n",
    "    if y_position < 50:  # Nova página se faltar espaço\n",
    "        c.showPage()\n",
    "        c.setFont(\"Helvetica-Bold\", 16)\n",
    "        #c.drawString(100, height - 50, \"Lista de Produtos\")\n",
    "        y_position = height - 100\n",
    "\n",
    "c.save()  # Salva o PDF\n",
    "\n",
    "print(f\"PDF '{pdf_filename}' gerado com sucesso!\")"
   ]
  }
 ],
 "metadata": {
  "kernelspec": {
   "display_name": "Python 3",
   "language": "python",
   "name": "python3"
  },
  "language_info": {
   "codemirror_mode": {
    "name": "ipython",
    "version": 3
   },
   "file_extension": ".py",
   "mimetype": "text/x-python",
   "name": "python",
   "nbconvert_exporter": "python",
   "pygments_lexer": "ipython3",
   "version": "3.11.9"
  }
 },
 "nbformat": 4,
 "nbformat_minor": 2
}
